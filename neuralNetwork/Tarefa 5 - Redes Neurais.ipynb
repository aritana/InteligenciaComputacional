{
 "cells": [
  {
   "cell_type": "markdown",
   "id": "0131226b",
   "metadata": {},
   "source": [
    "# Perceptron"
   ]
  },
  {
   "cell_type": "markdown",
   "id": "46a929c8",
   "metadata": {},
   "source": [
    "Load of the Iris dataset."
   ]
  },
  {
   "cell_type": "code",
   "execution_count": 17,
   "id": "eeb60ab7",
   "metadata": {},
   "outputs": [
    {
     "name": "stdout",
     "output_type": "stream",
     "text": [
      "   sepal_length  sepal_width  petal_length  petal_width          species\n",
      "0             5            2             7            3      Iris-setosa\n",
      "1             4            1             8            3  Iris-versicolor\n",
      "2             4            6             1            9   Iris-virginica\n"
     ]
    }
   ],
   "source": [
    "from __future__ import print_function\n",
    "import os\n",
    "import pandas as pd\n",
    "import numpy as np\n",
    "\n",
    "data_path = ['/home/aritana/Downloads/Cefet/IA/Lab/6']\n",
    "\n",
    "filepath = os.sep.join(data_path + ['Iris_Data.csv'])\n",
    "data = pd.read_csv(filepath, sep=',', header=0)\n",
    "print (data)\n",
    "#teste = data[data.columns[0:4]]\n",
    "#teste = data.iat[1,2]\n",
    "#print(\"teste\")\n",
    "#print(teste)"
   ]
  },
  {
   "cell_type": "markdown",
   "id": "725f8746",
   "metadata": {},
   "source": [
    "### Coletando as entradas: x e dispondo na matriz: X.\n"
   ]
  },
  {
   "cell_type": "code",
   "execution_count": 46,
   "id": "2e07e33f",
   "metadata": {},
   "outputs": [
    {
     "name": "stdout",
     "output_type": "stream",
     "text": [
      "X\n",
      "[[5 4 4]\n",
      " [2 1 6]\n",
      " [7 8 1]\n",
      " [3 3 9]]\n",
      "ArrayRotulos\n",
      "[['Iris-setosa' 'Iris-versicolor' 'Iris-virginica']]\n",
      "['Iris-setosa']\n"
     ]
    }
   ],
   "source": [
    "ArrayG= np.array(data) \n",
    "\n",
    "ArrayX= np.array(data[data.columns[:-1]]) \n",
    "print(\"X\")\n",
    "print(ArrayX.transpose())\n",
    "\n",
    "ArrayRotulos = np.array(data[data.columns[4:5]])\n",
    "print(\"ArrayRotulos\")\n",
    "print(ArrayRotulos.transpose())\n",
    "\n",
    "print(ArrayRotulos[0])\n",
    "\n",
    "\n"
   ]
  },
  {
   "cell_type": "markdown",
   "id": "9e1d2c0f",
   "metadata": {},
   "source": [
    "## Matriz D\n",
    "Definir matriz D, matriz de rótulos de saída.\n",
    "Sendo:\n",
    "[[1. 0. 0.]\n",
    " [0. 1. 0.]\n",
    " [0. 0. 1.]] Para Iris-setosa, versicolor, virginica"
   ]
  },
  {
   "cell_type": "code",
   "execution_count": 41,
   "id": "b48d2c4e",
   "metadata": {},
   "outputs": [
    {
     "name": "stdout",
     "output_type": "stream",
     "text": [
      "[[1. 0. 0.]\n",
      " [0. 1. 0.]\n",
      " [0. 0. 1.]]\n"
     ]
    }
   ],
   "source": [
    "N = 3 #numero de amostras\n",
    "\n",
    "def D(): \n",
    "    d = np.array(np.zeros((3,N))) \n",
    "    \n",
    "    for i in range (N):\n",
    "        rotulo =  ArrayRotulos[i]\n",
    "        pos = posicao(rotulo)\n",
    "        d[i][pos] = 1\n",
    "    return d\n",
    "   \n",
    "    \n",
    "\n",
    "\n",
    "def posicao(rotulo):\n",
    "    retorno = -1\n",
    "    if 'Iris-setosa' in rotulo:\n",
    "        retorno = 0\n",
    "    elif 'Iris-versicolor' in rotulo:\n",
    "        retorno = 1\n",
    "    elif 'Iris-virginica' in rotulo:\n",
    "        retorno = 2\n",
    "    return retorno\n",
    "     \n",
    "\n",
    "d = D()\n",
    "print(d)\n",
    "\n"
   ]
  },
  {
   "cell_type": "markdown",
   "id": "ee800891",
   "metadata": {},
   "source": [
    "### Funcoes auxiliares"
   ]
  },
  {
   "cell_type": "code",
   "execution_count": null,
   "id": "10485ff5",
   "metadata": {},
   "outputs": [],
   "source": [
    "\n",
    "    \n",
    "    "
   ]
  },
  {
   "cell_type": "markdown",
   "id": "50496293",
   "metadata": {},
   "source": [
    "# Definir Função Perceptron\n"
   ]
  },
  {
   "cell_type": "code",
   "execution_count": 55,
   "id": "224ba542",
   "metadata": {},
   "outputs": [
    {
     "name": "stdout",
     "output_type": "stream",
     "text": [
      "xi\n",
      "[[4.]\n",
      " [1.]\n",
      " [8.]\n",
      " [3.]]\n",
      "d1\n",
      "[[4.]\n",
      " [1.]\n",
      " [8.]\n",
      " [3.]]\n",
      "Wx\n",
      "[[0.]\n",
      " [0.]]\n"
     ]
    }
   ],
   "source": [
    "max_it = 3\n",
    "alfa = 0.1\n",
    "X = ArrayX.transpose()\n",
    "D = d\n",
    "N = 3 #numero de amostras\n",
    "\n",
    "def pegarColunaX(col, X):\n",
    "    linhas = X.shape[0]\n",
    "    \n",
    "    z = np.array(np.zeros((linhas,1)))\n",
    "    for i in range(linhas):\n",
    "        z[i][0]=(X[i,col])\n",
    "    return z\n",
    "     \n",
    "\n",
    "def somarColunaErro(e):\n",
    "    linhas = X.shape[0]\n",
    "    soma = 0\n",
    "    for i in range(linhas):\n",
    "        soma = soma + e[i][0]\n",
    "    return soma\n",
    "\n",
    "def degrau(val):\n",
    "    saida = 1\n",
    "    if val < 0:\n",
    "        saida = 0\n",
    "    return saida\n",
    "\n",
    "\n",
    "w = np.array(np.zeros((2,4))) #vetor pesos\n",
    "b = np.array(np.zeros((2,1))) #bias\n",
    "print(\"xi\")\n",
    "xi = pegarColunaX(1, X)\n",
    "print(xi)\n",
    "\n",
    "print(\"d1\")\n",
    "di = pegarColunaX(1, D)\n",
    "print(xi)\n",
    "\n",
    "print(\"Wx\")\n",
    "Wx =  np.matmul(w,xi)\n",
    "print(Wx)\n",
    "\n",
    "\n",
    "print(\"o\")\n",
    "\n",
    "#erro \n",
    "\n",
    "\n"
   ]
  },
  {
   "cell_type": "code",
   "execution_count": null,
   "id": "46f02029",
   "metadata": {},
   "outputs": [],
   "source": [
    "\n",
    "\n",
    "ei = np.subtract(di-y)\n",
    "print(xi)\n",
    "w_aux = alfa* np.matmul(ei*xi.transpose())\n",
    "print(xi)\n",
    "w = w + w_aux\n",
    "print(xi)\n",
    "b = b + alfa * ei\n",
    "print(xi)\n",
    "ei =  ei**2\n",
    "print(xi)\n",
    "E= E +somarColunaErro(ei)"
   ]
  },
  {
   "cell_type": "markdown",
   "id": "e35373ae",
   "metadata": {},
   "source": [
    "## Nota ao professor:\n",
    "\n",
    "Não conseguir desenvolver melhor o algoritimo, peço desculpas."
   ]
  },
  {
   "cell_type": "code",
   "execution_count": 56,
   "id": "8022ede3",
   "metadata": {},
   "outputs": [
    {
     "ename": "TypeError",
     "evalue": "only integer scalar arrays can be converted to a scalar index",
     "output_type": "error",
     "traceback": [
      "\u001b[0;31m---------------------------------------------------------------------------\u001b[0m",
      "\u001b[0;31mTypeError\u001b[0m                                 Traceback (most recent call last)",
      "\u001b[0;32m<ipython-input-56-fd327f916238>\u001b[0m in \u001b[0;36m<module>\u001b[0;34m\u001b[0m\n\u001b[1;32m     24\u001b[0m \u001b[0;34m\u001b[0m\u001b[0m\n\u001b[1;32m     25\u001b[0m \u001b[0;34m\u001b[0m\u001b[0m\n\u001b[0;32m---> 26\u001b[0;31m \u001b[0mw\u001b[0m \u001b[0;34m=\u001b[0m \u001b[0mperceptron\u001b[0m\u001b[0;34m(\u001b[0m\u001b[0mmax_it\u001b[0m\u001b[0;34m,\u001b[0m\u001b[0malfa\u001b[0m\u001b[0;34m,\u001b[0m\u001b[0mX\u001b[0m\u001b[0;34m,\u001b[0m\u001b[0mD\u001b[0m\u001b[0;34m)\u001b[0m\u001b[0;34m\u001b[0m\u001b[0;34m\u001b[0m\u001b[0m\n\u001b[0m\u001b[1;32m     27\u001b[0m \u001b[0;34m\u001b[0m\u001b[0m\n",
      "\u001b[0;32m<ipython-input-56-fd327f916238>\u001b[0m in \u001b[0;36mperceptron\u001b[0;34m(max_it, alfa, X, D)\u001b[0m\n\u001b[1;32m     10\u001b[0m             \u001b[0mdi\u001b[0m \u001b[0;34m=\u001b[0m \u001b[0mpegarColunaX\u001b[0m\u001b[0;34m(\u001b[0m\u001b[0mi\u001b[0m\u001b[0;34m,\u001b[0m \u001b[0mD\u001b[0m\u001b[0;34m)\u001b[0m\u001b[0;34m\u001b[0m\u001b[0;34m\u001b[0m\u001b[0m\n\u001b[1;32m     11\u001b[0m             \u001b[0mWx\u001b[0m \u001b[0;34m=\u001b[0m  \u001b[0mnp\u001b[0m\u001b[0;34m.\u001b[0m\u001b[0mmatmul\u001b[0m\u001b[0;34m(\u001b[0m\u001b[0mw\u001b[0m\u001b[0;34m,\u001b[0m\u001b[0mxi\u001b[0m\u001b[0;34m)\u001b[0m\u001b[0;34m\u001b[0m\u001b[0;34m\u001b[0m\u001b[0m\n\u001b[0;32m---> 12\u001b[0;31m             \u001b[0my\u001b[0m \u001b[0;34m=\u001b[0m \u001b[0mdegrau\u001b[0m\u001b[0;34m(\u001b[0m\u001b[0mnp\u001b[0m\u001b[0;34m.\u001b[0m\u001b[0msum\u001b[0m\u001b[0;34m(\u001b[0m\u001b[0mWx\u001b[0m\u001b[0;34m,\u001b[0m\u001b[0mb\u001b[0m\u001b[0;34m)\u001b[0m\u001b[0;34m)\u001b[0m\u001b[0;34m\u001b[0m\u001b[0;34m\u001b[0m\u001b[0m\n\u001b[0m\u001b[1;32m     13\u001b[0m             \u001b[0mei\u001b[0m \u001b[0;34m=\u001b[0m \u001b[0mnp\u001b[0m\u001b[0;34m.\u001b[0m\u001b[0msubtract\u001b[0m\u001b[0;34m(\u001b[0m\u001b[0mdi\u001b[0m\u001b[0;34m-\u001b[0m\u001b[0my\u001b[0m\u001b[0;34m)\u001b[0m\u001b[0;34m\u001b[0m\u001b[0;34m\u001b[0m\u001b[0m\n\u001b[1;32m     14\u001b[0m             \u001b[0mw_aux\u001b[0m \u001b[0;34m=\u001b[0m \u001b[0malfa\u001b[0m\u001b[0;34m*\u001b[0m \u001b[0mnp\u001b[0m\u001b[0;34m.\u001b[0m\u001b[0mmatmul\u001b[0m\u001b[0;34m(\u001b[0m\u001b[0mei\u001b[0m\u001b[0;34m*\u001b[0m\u001b[0mxi\u001b[0m\u001b[0;34m.\u001b[0m\u001b[0mtranspose\u001b[0m\u001b[0;34m(\u001b[0m\u001b[0;34m)\u001b[0m\u001b[0;34m)\u001b[0m\u001b[0;34m\u001b[0m\u001b[0;34m\u001b[0m\u001b[0m\n",
      "\u001b[0;32m<__array_function__ internals>\u001b[0m in \u001b[0;36msum\u001b[0;34m(*args, **kwargs)\u001b[0m\n",
      "\u001b[0;32m~/my_jupyter_notebook/my_jupyter_notebook/lib/python3.8/site-packages/numpy/core/fromnumeric.py\u001b[0m in \u001b[0;36msum\u001b[0;34m(a, axis, dtype, out, keepdims, initial, where)\u001b[0m\n\u001b[1;32m   2245\u001b[0m         \u001b[0;32mreturn\u001b[0m \u001b[0mres\u001b[0m\u001b[0;34m\u001b[0m\u001b[0;34m\u001b[0m\u001b[0m\n\u001b[1;32m   2246\u001b[0m \u001b[0;34m\u001b[0m\u001b[0m\n\u001b[0;32m-> 2247\u001b[0;31m     return _wrapreduction(a, np.add, 'sum', axis, dtype, out, keepdims=keepdims,\n\u001b[0m\u001b[1;32m   2248\u001b[0m                           initial=initial, where=where)\n\u001b[1;32m   2249\u001b[0m \u001b[0;34m\u001b[0m\u001b[0m\n",
      "\u001b[0;32m~/my_jupyter_notebook/my_jupyter_notebook/lib/python3.8/site-packages/numpy/core/fromnumeric.py\u001b[0m in \u001b[0;36m_wrapreduction\u001b[0;34m(obj, ufunc, method, axis, dtype, out, **kwargs)\u001b[0m\n\u001b[1;32m     85\u001b[0m                 \u001b[0;32mreturn\u001b[0m \u001b[0mreduction\u001b[0m\u001b[0;34m(\u001b[0m\u001b[0maxis\u001b[0m\u001b[0;34m=\u001b[0m\u001b[0maxis\u001b[0m\u001b[0;34m,\u001b[0m \u001b[0mout\u001b[0m\u001b[0;34m=\u001b[0m\u001b[0mout\u001b[0m\u001b[0;34m,\u001b[0m \u001b[0;34m**\u001b[0m\u001b[0mpasskwargs\u001b[0m\u001b[0;34m)\u001b[0m\u001b[0;34m\u001b[0m\u001b[0;34m\u001b[0m\u001b[0m\n\u001b[1;32m     86\u001b[0m \u001b[0;34m\u001b[0m\u001b[0m\n\u001b[0;32m---> 87\u001b[0;31m     \u001b[0;32mreturn\u001b[0m \u001b[0mufunc\u001b[0m\u001b[0;34m.\u001b[0m\u001b[0mreduce\u001b[0m\u001b[0;34m(\u001b[0m\u001b[0mobj\u001b[0m\u001b[0;34m,\u001b[0m \u001b[0maxis\u001b[0m\u001b[0;34m,\u001b[0m \u001b[0mdtype\u001b[0m\u001b[0;34m,\u001b[0m \u001b[0mout\u001b[0m\u001b[0;34m,\u001b[0m \u001b[0;34m**\u001b[0m\u001b[0mpasskwargs\u001b[0m\u001b[0;34m)\u001b[0m\u001b[0;34m\u001b[0m\u001b[0;34m\u001b[0m\u001b[0m\n\u001b[0m\u001b[1;32m     88\u001b[0m \u001b[0;34m\u001b[0m\u001b[0m\n\u001b[1;32m     89\u001b[0m \u001b[0;34m\u001b[0m\u001b[0m\n",
      "\u001b[0;31mTypeError\u001b[0m: only integer scalar arrays can be converted to a scalar index"
     ]
    }
   ],
   "source": [
    "\n",
    "\n",
    "def perceptron(max_it,alfa,X,D):#x deve vir transposta\n",
    "    w = np.array(np.zeros((2,4))) #vetor pesos\n",
    "    b = np.array(np.zeros((2,1))) #bias\n",
    "    t = 1;\n",
    "    E=1;\n",
    "    while(t < max_it and E > 0):\n",
    "        E =0\n",
    "        for i in range (N):\n",
    "            xi = pegarColunaX(i, X)\n",
    "            di = pegarColunaX(i, D)\n",
    "            Wx =  np.matmul(w,xi)\n",
    "            y = degrau(np.sum(Wx,b))\n",
    "            ei = np.subtract(di-y)\n",
    "            w_aux = alfa* np.matmul(ei*xi.transpose())\n",
    "            w = w + w_aux\n",
    "            b = b + alfa * ei\n",
    "            ei =  ei**2\n",
    "            E= E +somarColunaErro(ei)\n",
    "        t = t+1\n",
    "    return w\n",
    "                    \n",
    "    \n",
    "    \n",
    "\n",
    "            \n",
    "w = perceptron(max_it,alfa,X,D)\n",
    "\n"
   ]
  },
  {
   "cell_type": "code",
   "execution_count": null,
   "id": "49eac2d4",
   "metadata": {},
   "outputs": [],
   "source": []
  },
  {
   "cell_type": "code",
   "execution_count": null,
   "id": "d23f1647",
   "metadata": {},
   "outputs": [],
   "source": []
  }
 ],
 "metadata": {
  "kernelspec": {
   "display_name": "Python 3",
   "language": "python",
   "name": "python3"
  },
  "language_info": {
   "codemirror_mode": {
    "name": "ipython",
    "version": 3
   },
   "file_extension": ".py",
   "mimetype": "text/x-python",
   "name": "python",
   "nbconvert_exporter": "python",
   "pygments_lexer": "ipython3",
   "version": "3.8.10"
  }
 },
 "nbformat": 4,
 "nbformat_minor": 5
}
