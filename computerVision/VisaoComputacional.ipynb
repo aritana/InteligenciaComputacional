{
 "cells": [
  {
   "cell_type": "code",
   "execution_count": null,
   "id": "d7cc4127",
   "metadata": {},
   "outputs": [],
   "source": [
    "pip install opencv-python\n",
    "pip install numpy --upgrade"
   ]
  },
  {
   "cell_type": "code",
   "execution_count": null,
   "id": "bcb13f61",
   "metadata": {},
   "outputs": [],
   "source": [
    "pip install numpy --upgrade"
   ]
  },
  {
   "cell_type": "markdown",
   "id": "d3ff230d",
   "metadata": {},
   "source": [
    "<img src=\"images/input.jpg\">"
   ]
  },
  {
   "cell_type": "code",
   "execution_count": null,
   "id": "868b70be",
   "metadata": {},
   "outputs": [],
   "source": [
    "\n",
    "import cv2\n",
    "\n",
    "img = cv2.imread('./images/input.jpg')\n",
    "\n",
    "cv2.imshow('Input image', img)\n",
    "\n",
    "cv2.waitKey()\n"
   ]
  },
  {
   "cell_type": "markdown",
   "id": "264dc461",
   "metadata": {},
   "source": [
    "capturando uma camera\n"
   ]
  },
  {
   "cell_type": "code",
   "execution_count": null,
   "id": "4b72b3e7",
   "metadata": {},
   "outputs": [],
   "source": [
    "import cv2 #deteccao de faces. uso cascade. Contem os modeos do que seria uma face. algoritmo viola jones\n",
    "\n",
    "#cap = cv2.VideoCapture('videos/05-1.avi')\n",
    "cap = cv2.VideoCapture(-1)\n",
    "# Check if the webcam is opened correctly\n",
    "if not cap.isOpened():\n",
    "    raise IOError(\"Cannot open webcam\")\n",
    "\n",
    "# Loads the classifier\n",
    "face_cascade = cv2.CascadeClassifier(\n",
    "    './cascade_files/haarcascade_frontalface_alt.xml')\n",
    "\n",
    "while True:\n",
    "    ret, frame = cap.read()\n",
    "\n",
    "    if not ret:\n",
    "        break\n",
    "\n",
    "    # Detect faces\n",
    "    face_rects = face_cascade.detectMultiScale( #Detecto a face\n",
    "        frame, scaleFactor=1.3, minNeighbors=3)\n",
    "\n",
    "    # Draw a rectangle in image\n",
    "    for (x, y, w, h) in face_rects:#pono, largura e altura\n",
    "        cv2.rectangle(frame, (x, y), (x + w, y + h), (0, 255, 0), 3) #desenho retangulo em cima dele.\n",
    "\n",
    "    cv2.imshow('Face Detector', frame)\n",
    "\n",
    "    c = cv2.waitKey(5)\n",
    "    if c == 27:\n",
    "        break\n",
    "\n",
    "cap.release()"
   ]
  },
  {
   "cell_type": "code",
   "execution_count": null,
   "id": "7a5fe64c",
   "metadata": {},
   "outputs": [],
   "source": []
  }
 ],
 "metadata": {
  "kernelspec": {
   "display_name": "Python 3",
   "language": "python",
   "name": "python3"
  },
  "language_info": {
   "codemirror_mode": {
    "name": "ipython",
    "version": 3
   },
   "file_extension": ".py",
   "mimetype": "text/x-python",
   "name": "python",
   "nbconvert_exporter": "python",
   "pygments_lexer": "ipython3",
   "version": "3.8.10"
  }
 },
 "nbformat": 4,
 "nbformat_minor": 5
}
