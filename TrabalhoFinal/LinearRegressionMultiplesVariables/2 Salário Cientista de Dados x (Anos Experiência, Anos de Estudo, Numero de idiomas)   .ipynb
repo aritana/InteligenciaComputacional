{
 "cells": [
  {
   "cell_type": "markdown",
   "id": "274432aa",
   "metadata": {},
   "source": [
    "\n",
    "\n",
    "## Professor: Rogério Martins Gomes\n",
    "\n",
    "## Alunos: Aritana Noara Costa Santos  e Victor Augusto Januário da Cruz"
   ]
  },
  {
   "cell_type": "markdown",
   "id": "27f7f0df",
   "metadata": {},
   "source": [
    " ## 2. Regressão linear com múltiplas variáveis"
   ]
  },
  {
   "cell_type": "code",
   "execution_count": 1,
   "id": "c2709104",
   "metadata": {},
   "outputs": [
    {
     "name": "stdout",
     "output_type": "stream",
     "text": [
      "       0   1         2\n",
      "0    1.1  17   39343.0\n",
      "1    1.3  12   46205.0\n",
      "2    1.4  20   60100.0\n",
      "3    1.5  14   37731.0\n",
      "4    2.0  17   43525.0\n",
      "5    2.2  15   39891.0\n",
      "6    2.3  17   81300.0\n",
      "7    2.9  17   56642.0\n",
      "8    3.0  12   60150.0\n",
      "9    3.2  20   54445.0\n",
      "10   3.2   9   64445.0\n",
      "11   3.7  10   57189.0\n",
      "12   3.8  20   91728.0\n",
      "13   3.9  17   63218.0\n",
      "14   4.0  17   55794.0\n",
      "15   4.0  12   56957.0\n",
      "16   4.1  15   57081.0\n",
      "17   4.2  17   59000.0\n",
      "18   4.5  11   91111.0\n",
      "19   4.9  20   67938.0\n",
      "20   5.1   9   66029.0\n",
      "21   5.3  15   83088.0\n",
      "22   5.9  24   81363.0\n",
      "23   6.0  24   11940.0\n",
      "24   6.8  17   91738.0\n",
      "25   7.1  17   98273.0\n",
      "26   7.9  17  101302.0\n",
      "27   8.2  20  113812.0\n",
      "28   8.7  20  109431.0\n",
      "29   9.0  20  105582.0\n",
      "30   9.3  24  145582.0\n",
      "31   9.5  20  116969.0\n",
      "32   9.6  20  112635.0\n",
      "33  10.3  24  122391.0\n",
      "34  10.5  24  121872.0\n",
      "35  10.5  24  151872.0\n"
     ]
    }
   ],
   "source": [
    "import pandas as pd\n",
    "import numpy as np\n",
    "\n",
    "\n",
    "filename = './salaryData3dimensions.csv'\n",
    "\n",
    "#Anos Experiência, Anos de Estudo, Salario\n",
    "\n",
    "data = pd.read_csv(filename,sep=',',header=None).values\n",
    "\n",
    "\n",
    "print(pd.read_csv(filename,sep=',',header=None))\n"
   ]
  },
  {
   "cell_type": "code",
   "execution_count": 2,
   "id": "e83b7656",
   "metadata": {},
   "outputs": [],
   "source": [
    "#Funções\n",
    "import math \n",
    "\n",
    "def DesvioPadrao(mean,numberOfPoints,points):\n",
    "    serie = 0\n",
    "    for i in range(numberOfPoints):\n",
    "        serie = serie + (points[i] - mean)**2\n",
    "    sd = math.sqrt(serie/numberOfPoints)\n",
    "    return sd\n",
    "\n",
    "def media(vetor):\n",
    "    resultado = 0\n",
    "    for i in range(len(vetor)):\n",
    "        resultado = resultado + vetor[i]\n",
    "    return resultado / len(vetor)\n",
    "\n",
    "def desvioPadrao(mean,numberOfPoints,points):\n",
    "    serie = 0\n",
    "    for i in range(numberOfPoints):\n",
    "        serie = serie + (points[i] - mean)**2\n",
    "    sd = math.sqrt(serie/numberOfPoints)\n",
    "    return sd\n",
    "\n",
    "def subtrairValorMedio(vetor,media):\n",
    "    resultado = []\n",
    "    for i in range(len(vetor)):\n",
    "        resultado.append(vetor[i]-media)\n",
    "    return resultado   \n",
    "\n",
    "def dividirPeloDesvioPadrao(vetor, desvioPadrao):\n",
    "    resultado = []\n",
    "    for i in range(len(vetor)):\n",
    "        resultado.append(vetor[i]/desvioPadrao)\n",
    "    return resultado  "
   ]
  },
  {
   "cell_type": "markdown",
   "id": "e64bb8a4",
   "metadata": {},
   "source": [
    "### Feature Normalization"
   ]
  },
  {
   "cell_type": "code",
   "execution_count": 3,
   "id": "0a995fda",
   "metadata": {},
   "outputs": [
    {
     "name": "stdout",
     "output_type": "stream",
     "text": [
      "Features foram normalizadas\n"
     ]
    }
   ],
   "source": [
    "# Calculating mean and standard deviation\n",
    "import statistics\n",
    "\n",
    "\n",
    "#definindo os eixos , teta0 + teta1*x1 + teta2 * x2\n",
    "x0 = 1\n",
    "x1 = data[:, 0]#anos experiencia\n",
    "x2 = data[:, 1]#anos de estudo\n",
    "y = data[:, 2]#Salário\n",
    "n = 2 # numero de features [x1,x2]\n",
    "size = len(x1)\n",
    "\n",
    "#Media e desvio Padrão\n",
    "\n",
    "meanX1 = media(x1)\n",
    "meanX2 = media(x2)\n",
    "meanY = media(y)\n",
    "\n",
    "sdX1 = desvioPadrao(meanX1,size,x1)\n",
    "sdX2 = desvioPadrao(meanX2,size,x2)\n",
    "sdY = desvioPadrao(meanY,size,y)\n",
    "\n",
    "\n",
    "x1 = subtrairValorMedio(x1,meanX1)\n",
    "x2 = subtrairValorMedio(x2,meanX2)\n",
    "y1 = subtrairValorMedio(y,meanY)\n",
    "\n",
    "x1 = dividirPeloDesvioPadrao(x1, sdX1)\n",
    "x2 = dividirPeloDesvioPadrao(x2, sdX2)\n",
    "y1 = dividirPeloDesvioPadrao(y1, sdY)\n",
    "\n",
    "print(\"Features foram normalizadas\")"
   ]
  },
  {
   "cell_type": "markdown",
   "id": "adc02903",
   "metadata": {},
   "source": [
    "### Funções"
   ]
  },
  {
   "cell_type": "code",
   "execution_count": 4,
   "id": "a686af38",
   "metadata": {},
   "outputs": [],
   "source": [
    "import matplotlib.pyplot as plt\n",
    "import numpy as np\n",
    "\n",
    "\n",
    "\n",
    "def Dj_dteta0(teta0, teta1, teta2, x1, x2, y, m):\n",
    "    resultado = 0\n",
    "    for i in range (m):\n",
    "        resultado = resultado + (teta0 + teta1 * x1[i]+ teta2 * x2[i] - y[i])\n",
    "    return resultado/m\n",
    "        \n",
    "def Dj_dteta1(teta0, teta1, teta2, x1, x2, y, m):\n",
    "    resultado = 0\n",
    "    for i in range (m):\n",
    "        resultado = resultado + (teta0 + teta1 * x1[i]+ teta2 * x2[i] - y[i])*x1[i]\n",
    "    return resultado/m    \n",
    "\n",
    "def Dj_dteta2(teta0, teta1, teta2, x1, x2, y, m):\n",
    "    resultado = 0\n",
    "    for i in range (m):\n",
    "        resultado = resultado + (teta0 + teta1 * x1[i]+ teta2 * x2[i] - y[i])*x2[i]\n",
    "    return resultado/m   \n",
    "\n",
    "def FuncaoCusto(teta0, teta1,teta2, x1,x2, y, m):\n",
    "    resultado = 0\n",
    "    custo = []\n",
    "    for i in range (m):\n",
    "        custo.append(((teta0 + teta1 * x1[i] + teta2 * x2[i])- y[i])**2)        \n",
    "    for i in range (m):    \n",
    "        resultado = resultado + custo[i]\n",
    "    return resultado/(2*m)        \n",
    "\n",
    "def plotGrafico(x,y,h):\n",
    "    plt.xlabel(\"Population of City in 10,000s\")\n",
    "    plt.ylabel(\"Profit in 10,000s\")\n",
    "    plt.plot(x,y,'x',label=\"Training data\")\n",
    "    plt.plot(x,h,label=\"Linear regression\")   \n",
    "    plt.legend(loc='upper left', frameon=False)\n",
    "    plt.show()\n",
    "    \n",
    "def plotGrafico3d(x1,x2,y,h):    \n",
    "\n",
    "    fig = plt.figure()    \n",
    "    ax = plt.axes(projection ='3d')\n",
    "    z = x1\n",
    "    x = x2\n",
    "    y = h\n",
    "\n",
    "    # plotting\n",
    "    ax.plot3D(x, z, h, 'green')\n",
    "    ax.set_title('3D line plot geeks for geeks')\n",
    "    plt.show() "
   ]
  },
  {
   "cell_type": "code",
   "execution_count": 5,
   "id": "67aff7a2",
   "metadata": {},
   "outputs": [],
   "source": [
    "def RRplotGrafico3d(x1,x2,y,h):     \n",
    "\n",
    "    fig = plt.figure()\n",
    "    ax.plot_surface(xx, yy, z, alpha=0.2)\n",
    "    \n",
    "    ax = plt.axes(projection ='3d')\n",
    "    z = x1\n",
    "    x = x2\n",
    "    y = h\n",
    "\n",
    "    \n",
    "    # plotting\n",
    "    ax.plot3D(x, y, z, 'green')\n",
    "    ax.set_title('3D line plot geeks for geeks')\n",
    "    plt.show()    \n",
    "    "
   ]
  },
  {
   "cell_type": "markdown",
   "id": "ab1b5ac7",
   "metadata": {},
   "source": [
    "## Execução"
   ]
  },
  {
   "cell_type": "code",
   "execution_count": 6,
   "id": "95c7da6e",
   "metadata": {},
   "outputs": [],
   "source": [
    "#Definir Valores iniciais\n",
    "# vetor x e vetor y ja foram definidos anteriormente\n",
    "\n",
    "def executarIteracoes(alfa,NoIteracoes,x1,x2,teta0,teta1,teta2):\n",
    "    m = len(x1)\n",
    "    h = []\n",
    "    #para impressao\n",
    "    vetorCusto = []\n",
    "    vetorNumeroIteracoes = []        \n",
    "    vetorTeta0 = []\n",
    "    vetorTeta1 = []\n",
    "    vetorTeta2 = []  \n",
    "    \n",
    "    #teta0 + teta1*x1 + teta2 * x2 \n",
    "    for i in range(NoIteracoes):\n",
    "        dj_dteta0 = Dj_dteta0(teta0, teta1, teta2, x1, x2, y1, m)\n",
    "        temp0 = teta0 - alfa * dj_dteta0\n",
    "\n",
    "        dj_dteta1 = Dj_dteta1(teta0, teta1, teta2, x1, x2, y1, m)\n",
    "        temp1 = teta1 - alfa * dj_dteta1\n",
    "\n",
    "        dj_dteta2 = Dj_dteta2(teta0, teta1, teta2, x1, x2, y1, m)\n",
    "        temp2 = teta1 - alfa * dj_dteta2  \n",
    "\n",
    "        #atualiza parametros      \n",
    "        teta0 = temp0\n",
    "        teta1 = temp1   \n",
    "        teta2 = temp2\n",
    "\n",
    "        #custo e iteracoes para serem plotados\n",
    "        vetorTeta0.append(teta0)\n",
    "        vetorTeta1.append(teta1)\n",
    "        vetorTeta2.append(teta2) \n",
    "        \n",
    "        #imprimir grafico da regressão linear\n",
    "        for i in range(m):   \n",
    "            h.append(teta0 + teta1 * x1[i] + teta2 * x2[i])\n",
    "        plotGrafico3d(x1,x2,y,h)\n",
    "\n",
    "\n",
    "    "
   ]
  },
  {
   "cell_type": "code",
   "execution_count": 7,
   "id": "87bfc459",
   "metadata": {},
   "outputs": [
    {
     "data": {
      "image/png": "[encoded data removed]",
      "text/plain": [
       "<Figure size 432x288 with 1 Axes>"
      ]
     },
     "metadata": {
      "needs_background": "light"
     },
     "output_type": "display_data"
    },
    {
     "ename": "ValueError",
     "evalue": "operands could not be broadcast together with remapped shapes [original->remapped]: (72,)  and requested shape (36,)",
     "output_type": "error",
     "traceback": [
      "\u001b[0;31m---------------------------------------------------------------------------\u001b[0m",
      "\u001b[0;31mValueError\u001b[0m                                Traceback (most recent call last)",
      "\u001b[0;32m/tmp/ipykernel_8832/3919296382.py\u001b[0m in \u001b[0;36m<module>\u001b[0;34m\u001b[0m\n\u001b[1;32m      8\u001b[0m \u001b[0mNoIteracoes\u001b[0m \u001b[0;34m=\u001b[0m \u001b[0;36m1000\u001b[0m\u001b[0;34m\u001b[0m\u001b[0;34m\u001b[0m\u001b[0m\n\u001b[1;32m      9\u001b[0m \u001b[0;34m\u001b[0m\u001b[0m\n\u001b[0;32m---> 10\u001b[0;31m \u001b[0mexecutarIteracoes\u001b[0m\u001b[0;34m(\u001b[0m\u001b[0malfa\u001b[0m\u001b[0;34m,\u001b[0m\u001b[0mNoIteracoes\u001b[0m\u001b[0;34m,\u001b[0m\u001b[0mx1\u001b[0m\u001b[0;34m,\u001b[0m\u001b[0mx2\u001b[0m\u001b[0;34m,\u001b[0m\u001b[0mteta0\u001b[0m\u001b[0;34m,\u001b[0m\u001b[0mteta1\u001b[0m\u001b[0;34m,\u001b[0m\u001b[0mteta2\u001b[0m\u001b[0;34m)\u001b[0m\u001b[0;34m\u001b[0m\u001b[0;34m\u001b[0m\u001b[0m\n\u001b[0m",
      "\u001b[0;32m/tmp/ipykernel_8832/267186499.py\u001b[0m in \u001b[0;36mexecutarIteracoes\u001b[0;34m(alfa, NoIteracoes, x1, x2, teta0, teta1, teta2)\u001b[0m\n\u001b[1;32m     36\u001b[0m         \u001b[0;32mfor\u001b[0m \u001b[0mi\u001b[0m \u001b[0;32min\u001b[0m \u001b[0mrange\u001b[0m\u001b[0;34m(\u001b[0m\u001b[0mm\u001b[0m\u001b[0;34m)\u001b[0m\u001b[0;34m:\u001b[0m\u001b[0;34m\u001b[0m\u001b[0;34m\u001b[0m\u001b[0m\n\u001b[1;32m     37\u001b[0m             \u001b[0mh\u001b[0m\u001b[0;34m.\u001b[0m\u001b[0mappend\u001b[0m\u001b[0;34m(\u001b[0m\u001b[0mteta0\u001b[0m \u001b[0;34m+\u001b[0m \u001b[0mteta1\u001b[0m \u001b[0;34m*\u001b[0m \u001b[0mx1\u001b[0m\u001b[0;34m[\u001b[0m\u001b[0mi\u001b[0m\u001b[0;34m]\u001b[0m \u001b[0;34m+\u001b[0m \u001b[0mteta2\u001b[0m \u001b[0;34m*\u001b[0m \u001b[0mx2\u001b[0m\u001b[0;34m[\u001b[0m\u001b[0mi\u001b[0m\u001b[0;34m]\u001b[0m\u001b[0;34m)\u001b[0m\u001b[0;34m\u001b[0m\u001b[0;34m\u001b[0m\u001b[0m\n\u001b[0;32m---> 38\u001b[0;31m         \u001b[0mplotGrafico3d\u001b[0m\u001b[0;34m(\u001b[0m\u001b[0mx1\u001b[0m\u001b[0;34m,\u001b[0m\u001b[0mx2\u001b[0m\u001b[0;34m,\u001b[0m\u001b[0my\u001b[0m\u001b[0;34m,\u001b[0m\u001b[0mh\u001b[0m\u001b[0;34m)\u001b[0m\u001b[0;34m\u001b[0m\u001b[0;34m\u001b[0m\u001b[0m\n\u001b[0m\u001b[1;32m     39\u001b[0m \u001b[0;34m\u001b[0m\u001b[0m\n\u001b[1;32m     40\u001b[0m \u001b[0;34m\u001b[0m\u001b[0m\n",
      "\u001b[0;32m/tmp/ipykernel_8832/3706027946.py\u001b[0m in \u001b[0;36mplotGrafico3d\u001b[0;34m(x1, x2, y, h)\u001b[0m\n\u001b[1;32m     48\u001b[0m \u001b[0;34m\u001b[0m\u001b[0m\n\u001b[1;32m     49\u001b[0m     \u001b[0;31m# plotting\u001b[0m\u001b[0;34m\u001b[0m\u001b[0;34m\u001b[0m\u001b[0;34m\u001b[0m\u001b[0m\n\u001b[0;32m---> 50\u001b[0;31m     \u001b[0max\u001b[0m\u001b[0;34m.\u001b[0m\u001b[0mplot3D\u001b[0m\u001b[0;34m(\u001b[0m\u001b[0mx\u001b[0m\u001b[0;34m,\u001b[0m \u001b[0mz\u001b[0m\u001b[0;34m,\u001b[0m \u001b[0mh\u001b[0m\u001b[0;34m,\u001b[0m \u001b[0;34m'green'\u001b[0m\u001b[0;34m)\u001b[0m\u001b[0;34m\u001b[0m\u001b[0;34m\u001b[0m\u001b[0m\n\u001b[0m\u001b[1;32m     51\u001b[0m     \u001b[0max\u001b[0m\u001b[0;34m.\u001b[0m\u001b[0mset_title\u001b[0m\u001b[0;34m(\u001b[0m\u001b[0;34m'3D line plot geeks for geeks'\u001b[0m\u001b[0;34m)\u001b[0m\u001b[0;34m\u001b[0m\u001b[0;34m\u001b[0m\u001b[0m\n\u001b[1;32m     52\u001b[0m     \u001b[0mplt\u001b[0m\u001b[0;34m.\u001b[0m\u001b[0mshow\u001b[0m\u001b[0;34m(\u001b[0m\u001b[0;34m)\u001b[0m\u001b[0;34m\u001b[0m\u001b[0;34m\u001b[0m\u001b[0m\n",
      "\u001b[0;32m~/my_jupyter_notebook/my_jupyter_notebook/lib/python3.8/site-packages/mpl_toolkits/mplot3d/axes3d.py\u001b[0m in \u001b[0;36mplot\u001b[0;34m(self, xs, ys, zdir, *args, **kwargs)\u001b[0m\n\u001b[1;32m   1568\u001b[0m \u001b[0;34m\u001b[0m\u001b[0m\n\u001b[1;32m   1569\u001b[0m         \u001b[0;31m# Match length\u001b[0m\u001b[0;34m\u001b[0m\u001b[0;34m\u001b[0m\u001b[0;34m\u001b[0m\u001b[0m\n\u001b[0;32m-> 1570\u001b[0;31m         \u001b[0mzs\u001b[0m \u001b[0;34m=\u001b[0m \u001b[0mnp\u001b[0m\u001b[0;34m.\u001b[0m\u001b[0mbroadcast_to\u001b[0m\u001b[0;34m(\u001b[0m\u001b[0mzs\u001b[0m\u001b[0;34m,\u001b[0m \u001b[0mnp\u001b[0m\u001b[0;34m.\u001b[0m\u001b[0mshape\u001b[0m\u001b[0;34m(\u001b[0m\u001b[0mxs\u001b[0m\u001b[0;34m)\u001b[0m\u001b[0;34m)\u001b[0m\u001b[0;34m\u001b[0m\u001b[0;34m\u001b[0m\u001b[0m\n\u001b[0m\u001b[1;32m   1571\u001b[0m \u001b[0;34m\u001b[0m\u001b[0m\n\u001b[1;32m   1572\u001b[0m         \u001b[0mlines\u001b[0m \u001b[0;34m=\u001b[0m \u001b[0msuper\u001b[0m\u001b[0;34m(\u001b[0m\u001b[0;34m)\u001b[0m\u001b[0;34m.\u001b[0m\u001b[0mplot\u001b[0m\u001b[0;34m(\u001b[0m\u001b[0mxs\u001b[0m\u001b[0;34m,\u001b[0m \u001b[0mys\u001b[0m\u001b[0;34m,\u001b[0m \u001b[0;34m*\u001b[0m\u001b[0margs\u001b[0m\u001b[0;34m,\u001b[0m \u001b[0;34m**\u001b[0m\u001b[0mkwargs\u001b[0m\u001b[0;34m)\u001b[0m\u001b[0;34m\u001b[0m\u001b[0;34m\u001b[0m\u001b[0m\n",
      "\u001b[0;32m<__array_function__ internals>\u001b[0m in \u001b[0;36mbroadcast_to\u001b[0;34m(*args, **kwargs)\u001b[0m\n",
      "\u001b[0;32m~/my_jupyter_notebook/my_jupyter_notebook/lib/python3.8/site-packages/numpy/lib/stride_tricks.py\u001b[0m in \u001b[0;36mbroadcast_to\u001b[0;34m(array, shape, subok)\u001b[0m\n\u001b[1;32m    409\u001b[0m            [1, 2, 3]])\n\u001b[1;32m    410\u001b[0m     \"\"\"\n\u001b[0;32m--> 411\u001b[0;31m     \u001b[0;32mreturn\u001b[0m \u001b[0m_broadcast_to\u001b[0m\u001b[0;34m(\u001b[0m\u001b[0marray\u001b[0m\u001b[0;34m,\u001b[0m \u001b[0mshape\u001b[0m\u001b[0;34m,\u001b[0m \u001b[0msubok\u001b[0m\u001b[0;34m=\u001b[0m\u001b[0msubok\u001b[0m\u001b[0;34m,\u001b[0m \u001b[0mreadonly\u001b[0m\u001b[0;34m=\u001b[0m\u001b[0;32mTrue\u001b[0m\u001b[0;34m)\u001b[0m\u001b[0;34m\u001b[0m\u001b[0;34m\u001b[0m\u001b[0m\n\u001b[0m\u001b[1;32m    412\u001b[0m \u001b[0;34m\u001b[0m\u001b[0m\n\u001b[1;32m    413\u001b[0m \u001b[0;34m\u001b[0m\u001b[0m\n",
      "\u001b[0;32m~/my_jupyter_notebook/my_jupyter_notebook/lib/python3.8/site-packages/numpy/lib/stride_tricks.py\u001b[0m in \u001b[0;36m_broadcast_to\u001b[0;34m(array, shape, subok, readonly)\u001b[0m\n\u001b[1;32m    346\u001b[0m                          'negative')\n\u001b[1;32m    347\u001b[0m     \u001b[0mextras\u001b[0m \u001b[0;34m=\u001b[0m \u001b[0;34m[\u001b[0m\u001b[0;34m]\u001b[0m\u001b[0;34m\u001b[0m\u001b[0;34m\u001b[0m\u001b[0m\n\u001b[0;32m--> 348\u001b[0;31m     it = np.nditer(\n\u001b[0m\u001b[1;32m    349\u001b[0m         \u001b[0;34m(\u001b[0m\u001b[0marray\u001b[0m\u001b[0;34m,\u001b[0m\u001b[0;34m)\u001b[0m\u001b[0;34m,\u001b[0m \u001b[0mflags\u001b[0m\u001b[0;34m=\u001b[0m\u001b[0;34m[\u001b[0m\u001b[0;34m'multi_index'\u001b[0m\u001b[0;34m,\u001b[0m \u001b[0;34m'refs_ok'\u001b[0m\u001b[0;34m,\u001b[0m \u001b[0;34m'zerosize_ok'\u001b[0m\u001b[0;34m]\u001b[0m \u001b[0;34m+\u001b[0m \u001b[0mextras\u001b[0m\u001b[0;34m,\u001b[0m\u001b[0;34m\u001b[0m\u001b[0;34m\u001b[0m\u001b[0m\n\u001b[1;32m    350\u001b[0m         op_flags=['readonly'], itershape=shape, order='C')\n",
      "\u001b[0;31mValueError\u001b[0m: operands could not be broadcast together with remapped shapes [original->remapped]: (72,)  and requested shape (36,)"
     ]
    },
    {
     "data": {
      "image/png": "[encoded data removed]",
      "text/plain": [
       "<Figure size 432x288 with 1 Axes>"
      ]
     },
     "metadata": {
      "needs_background": "light"
     },
     "output_type": "display_data"
    }
   ],
   "source": [
    "x1 = x1 #vetorx\n",
    "x2 = x2 #vetory\n",
    "y1 = y1\n",
    "teta0 = 0\n",
    "teta1 = 0\n",
    "teta2 = 0\n",
    "alfa = 0.01\n",
    "NoIteracoes = 1000\n",
    "\n",
    "executarIteracoes(alfa,NoIteracoes,x1,x2,teta0,teta1,teta2)\n"
   ]
  },
  {
   "cell_type": "code",
   "execution_count": null,
   "id": "7e35ee81",
   "metadata": {},
   "outputs": [],
   "source": []
  }
 ],
 "metadata": {
  "kernelspec": {
   "display_name": "Python 3",
   "language": "python",
   "name": "python3"
  },
  "language_info": {
   "codemirror_mode": {
    "name": "ipython",
    "version": 3
   },
   "file_extension": ".py",
   "mimetype": "text/x-python",
   "name": "python",
   "nbconvert_exporter": "python",
   "pygments_lexer": "ipython3",
   "version": "3.8.10"
  }
 },
 "nbformat": 4,
 "nbformat_minor": 5
}
