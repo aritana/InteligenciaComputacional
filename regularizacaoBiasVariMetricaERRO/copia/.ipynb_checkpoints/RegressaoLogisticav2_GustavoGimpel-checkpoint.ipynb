{
 "cells": [
  {
   "cell_type": "markdown",
   "metadata": {
    "run_control": {
     "marked": true
    }
   },
   "source": [
    "#  Logistic Regression and Classification Error Metrics"
   ]
  },
  {
   "cell_type": "markdown",
   "metadata": {},
   "source": [
    "# Gustavo Gimpel Correia Lima\n",
    "# Matrícula: 201512040488"
   ]
  },
  {
   "cell_type": "markdown",
   "metadata": {
    "run_control": {
     "marked": true
    }
   },
   "source": [
    "## Introduction\n",
    "\n",
    "We will be using the [Human Activity Recognition with Smartphones](https://archive.ics.uci.edu/ml/datasets/Human+Activity+Recognition+Using+Smartphones) database, which was built from the recordings of study participants performing activities of daily living (ADL) while carrying a smartphone with an embedded inertial sensors. The objective is to classify activities into one of the six activities (walking, walking upstairs, walking downstairs, sitting, standing, and laying) performed.\n",
    "\n",
    "For each record in the dataset it is provided: \n",
    "\n",
    "- Triaxial acceleration from the accelerometer (total acceleration) and the estimated body acceleration. \n",
    "- Triaxial Angular velocity from the gyroscope. \n",
    "- A 561-feature vector with time and frequency domain variables. \n",
    "- Its activity label. \n",
    "\n",
    "More information about the features is available on the website: above or at https://www.kaggle.com/uciml/human-activity-recognition-with-smartphones "
   ]
  },
  {
   "cell_type": "code",
   "execution_count": 1,
   "metadata": {
    "run_control": {
     "marked": true
    }
   },
   "outputs": [],
   "source": [
    "from __future__ import print_function\n",
    "import os\n",
    "#Data Path has to be set as per the file location in your system\n",
    "#data_path = ['..', 'data']\n",
    "data_path = ['']"
   ]
  },
  {
   "cell_type": "markdown",
   "metadata": {
    "run_control": {
     "marked": true
    }
   },
   "source": [
    "## Question 1\n",
    "\n",
    "Import the data and do the following:\n",
    "\n",
    "* Examine the data types--there are many columns, so it might be wise to use value counts\n",
    "* Determine if the floating point values need to be scaled\n",
    "* Determine the breakdown of each activity\n",
    "* Encode the activity label as an integer"
   ]
  },
  {
   "cell_type": "markdown",
   "metadata": {},
   "source": [
    "# Os dados são lidos e analisados. Como a coluna de atividades é a única não numérica, as mesmas são codificadas para números inteiros de 0 a 5 utilizando o LabelEncoder, através da função fit_transform"
   ]
  },
  {
   "cell_type": "code",
   "execution_count": 2,
   "metadata": {
    "run_control": {
     "marked": true
    }
   },
   "outputs": [],
   "source": [
    "import pandas as pd\n",
    "import numpy as np\n",
    "#The filepath is dependent on the data_path set in the previous cell \n",
    "filepath = os.sep.join(['Human_Activity_Recognition_Using_Smartphones_Data.csv'])\n",
    "data = pd.read_csv(filepath, sep=',')"
   ]
  },
  {
   "cell_type": "markdown",
   "metadata": {
    "run_control": {
     "marked": true
    }
   },
   "source": [
    "The data columns are all floats except for the activity label."
   ]
  },
  {
   "cell_type": "code",
   "execution_count": 3,
   "metadata": {
    "run_control": {
     "marked": true
    }
   },
   "outputs": [
    {
     "data": {
      "text/plain": [
       "float64    561\n",
       "object       1\n",
       "dtype: int64"
      ]
     },
     "execution_count": 3,
     "metadata": {},
     "output_type": "execute_result"
    }
   ],
   "source": [
    "data.dtypes.value_counts()"
   ]
  },
  {
   "cell_type": "code",
   "execution_count": 4,
   "metadata": {
    "run_control": {
     "marked": true
    }
   },
   "outputs": [
    {
     "data": {
      "text/plain": [
       "angle(tBodyGyroJerkMean,gravityMean)    float64\n",
       "angle(X,gravityMean)                    float64\n",
       "angle(Y,gravityMean)                    float64\n",
       "angle(Z,gravityMean)                    float64\n",
       "Activity                                 object\n",
       "dtype: object"
      ]
     },
     "execution_count": 4,
     "metadata": {},
     "output_type": "execute_result"
    }
   ],
   "source": [
    "data.dtypes.tail()"
   ]
  },
  {
   "cell_type": "markdown",
   "metadata": {
    "run_control": {
     "marked": true
    }
   },
   "source": [
    "The data are all scaled from -1 (minimum) to 1.0 (maximum)."
   ]
  },
  {
   "cell_type": "code",
   "execution_count": 5,
   "metadata": {
    "run_control": {
     "marked": true
    }
   },
   "outputs": [
    {
     "data": {
      "text/plain": [
       "-1.0    561\n",
       "dtype: int64"
      ]
     },
     "execution_count": 5,
     "metadata": {},
     "output_type": "execute_result"
    }
   ],
   "source": [
    "data.iloc[:, :-1].min().value_counts()"
   ]
  },
  {
   "cell_type": "code",
   "execution_count": 6,
   "metadata": {
    "run_control": {
     "marked": true
    }
   },
   "outputs": [
    {
     "data": {
      "text/plain": [
       "1.0    561\n",
       "dtype: int64"
      ]
     },
     "execution_count": 6,
     "metadata": {},
     "output_type": "execute_result"
    }
   ],
   "source": [
    "data.iloc[:, :-1].max().value_counts()"
   ]
  },
  {
   "cell_type": "markdown",
   "metadata": {},
   "source": [
    "Examine the breakdown of activities--they are relatively balanced."
   ]
  },
  {
   "cell_type": "code",
   "execution_count": 7,
   "metadata": {},
   "outputs": [
    {
     "data": {
      "text/plain": [
       "LAYING                1944\n",
       "STANDING              1906\n",
       "SITTING               1777\n",
       "WALKING               1722\n",
       "WALKING_UPSTAIRS      1544\n",
       "WALKING_DOWNSTAIRS    1406\n",
       "Name: Activity, dtype: int64"
      ]
     },
     "execution_count": 7,
     "metadata": {},
     "output_type": "execute_result"
    }
   ],
   "source": [
    "data.Activity.value_counts()"
   ]
  },
  {
   "cell_type": "markdown",
   "metadata": {},
   "source": [
    "Scikit learn classifiers won't accept a sparse matrix for the prediction column. Thus, either `LabelEncoder` needs to be used to convert the activity labels to integers, or if `DictVectorizer` is used, the resulting matrix must be converted to a non-sparse array.  \n",
    "Use `LabelEncoder` to fit_transform the \"Activity\" column, and look at 5 random values."
   ]
  },
  {
   "cell_type": "code",
   "execution_count": 8,
   "metadata": {},
   "outputs": [
    {
     "data": {
      "text/plain": [
       "5701     2\n",
       "176      2\n",
       "1321     2\n",
       "4316     3\n",
       "10250    4\n",
       "Name: Activity, dtype: int64"
      ]
     },
     "execution_count": 8,
     "metadata": {},
     "output_type": "execute_result"
    }
   ],
   "source": [
    "from sklearn.preprocessing import LabelEncoder\n",
    "\n",
    "le = LabelEncoder()\n",
    "data['Activity'] = le.fit_transform(data.Activity)\n",
    "data['Activity'].sample(5)"
   ]
  },
  {
   "cell_type": "markdown",
   "metadata": {},
   "source": [
    "## Question 2\n",
    "\n",
    "* Calculate the correlations between the dependent variables.\n",
    "* Create a histogram of the correlation values\n",
    "* Identify those that are most correlated (either positively or negatively)."
   ]
  },
  {
   "cell_type": "markdown",
   "metadata": {},
   "source": [
    "# É calculada a correlação entre as características"
   ]
  },
  {
   "cell_type": "code",
   "execution_count": 9,
   "metadata": {},
   "outputs": [],
   "source": [
    "# Calculate the correlation values\n",
    "feature_cols = data.columns[:-1]\n",
    "corr_values = data[feature_cols].corr()\n",
    "\n",
    "# Simplify by emptying all the data below the diagonal\n",
    "tril_index = np.tril_indices_from(corr_values)\n",
    "\n",
    "# Make the unused values NaNs\n",
    "for coord in zip(*tril_index):\n",
    "    corr_values.iloc[coord[0], coord[1]] = np.NaN\n",
    "    \n",
    "# Stack the data and convert to a data frame\n",
    "corr_values = (corr_values.stack().to_frame().reset_index().rename(columns={'level_0':'feature1','level_1':'feature2',0:'correlation'}))\n",
    "\n",
    "# Get the absolute values for sorting\n",
    "corr_values['abs_correlation'] = corr_values.correlation.abs()"
   ]
  },
  {
   "cell_type": "markdown",
   "metadata": {},
   "source": [
    "A histogram of the absolute value correlations."
   ]
  },
  {
   "cell_type": "code",
   "execution_count": 10,
   "metadata": {},
   "outputs": [],
   "source": [
    "import matplotlib.pyplot as plt\n",
    "import seaborn as sns\n",
    "%matplotlib inline"
   ]
  },
  {
   "cell_type": "code",
   "execution_count": 11,
   "metadata": {},
   "outputs": [
    {
     "data": {
      "image/png": "[encoded data removed]",
      "text/plain": [
       "<Figure size 432x288 with 1 Axes>"
      ]
     },
     "metadata": {},
     "output_type": "display_data"
    }
   ],
   "source": [
    "sns.set_context('talk')\n",
    "sns.set_style('white')\n",
    "sns.set_palette('dark')\n",
    "\n",
    "ax = corr_values.abs_correlation.hist(bins=50)\n",
    "\n",
    "ax.set(xlabel='Absolute Correlation', ylabel='Frequency');"
   ]
  },
  {
   "cell_type": "markdown",
   "metadata": {},
   "source": [
    "# Verificar as features que estão mais correlacionadas ajuda a identificar a necessidade de eventuais ajustes no dataset, como lidar com características similares ou redundantes."
   ]
  },
  {
   "cell_type": "code",
   "execution_count": 12,
   "metadata": {},
   "outputs": [
    {
     "data": {
      "text/html": [
       "<div>\n",
       "<style scoped>\n",
       "    .dataframe tbody tr th:only-of-type {\n",
       "        vertical-align: middle;\n",
       "    }\n",
       "\n",
       "    .dataframe tbody tr th {\n",
       "        vertical-align: top;\n",
       "    }\n",
       "\n",
       "    .dataframe thead th {\n",
       "        text-align: right;\n",
       "    }\n",
       "</style>\n",
       "<table border=\"1\" class=\"dataframe\">\n",
       "  <thead>\n",
       "    <tr style=\"text-align: right;\">\n",
       "      <th></th>\n",
       "      <th>feature1</th>\n",
       "      <th>feature2</th>\n",
       "      <th>correlation</th>\n",
       "      <th>abs_correlation</th>\n",
       "    </tr>\n",
       "  </thead>\n",
       "  <tbody>\n",
       "    <tr>\n",
       "      <th>156894</th>\n",
       "      <td>fBodyBodyGyroJerkMag-mean()</td>\n",
       "      <td>fBodyBodyGyroJerkMag-sma()</td>\n",
       "      <td>1.000000</td>\n",
       "      <td>1.000000</td>\n",
       "    </tr>\n",
       "    <tr>\n",
       "      <th>93902</th>\n",
       "      <td>tBodyAccMag-sma()</td>\n",
       "      <td>tGravityAccMag-sma()</td>\n",
       "      <td>1.000000</td>\n",
       "      <td>1.000000</td>\n",
       "    </tr>\n",
       "    <tr>\n",
       "      <th>101139</th>\n",
       "      <td>tBodyAccJerkMag-mean()</td>\n",
       "      <td>tBodyAccJerkMag-sma()</td>\n",
       "      <td>1.000000</td>\n",
       "      <td>1.000000</td>\n",
       "    </tr>\n",
       "    <tr>\n",
       "      <th>96706</th>\n",
       "      <td>tGravityAccMag-mean()</td>\n",
       "      <td>tGravityAccMag-sma()</td>\n",
       "      <td>1.000000</td>\n",
       "      <td>1.000000</td>\n",
       "    </tr>\n",
       "    <tr>\n",
       "      <th>94257</th>\n",
       "      <td>tBodyAccMag-energy()</td>\n",
       "      <td>tGravityAccMag-energy()</td>\n",
       "      <td>1.000000</td>\n",
       "      <td>1.000000</td>\n",
       "    </tr>\n",
       "    <tr>\n",
       "      <th>...</th>\n",
       "      <td>...</td>\n",
       "      <td>...</td>\n",
       "      <td>...</td>\n",
       "      <td>...</td>\n",
       "    </tr>\n",
       "    <tr>\n",
       "      <th>22657</th>\n",
       "      <td>tGravityAcc-mean()-Y</td>\n",
       "      <td>angle(Y,gravityMean)</td>\n",
       "      <td>-0.993425</td>\n",
       "      <td>0.993425</td>\n",
       "    </tr>\n",
       "    <tr>\n",
       "      <th>39225</th>\n",
       "      <td>tGravityAcc-arCoeff()-Z,3</td>\n",
       "      <td>tGravityAcc-arCoeff()-Z,4</td>\n",
       "      <td>-0.994267</td>\n",
       "      <td>0.994267</td>\n",
       "    </tr>\n",
       "    <tr>\n",
       "      <th>38739</th>\n",
       "      <td>tGravityAcc-arCoeff()-Z,2</td>\n",
       "      <td>tGravityAcc-arCoeff()-Z,3</td>\n",
       "      <td>-0.994628</td>\n",
       "      <td>0.994628</td>\n",
       "    </tr>\n",
       "    <tr>\n",
       "      <th>23176</th>\n",
       "      <td>tGravityAcc-mean()-Z</td>\n",
       "      <td>angle(Z,gravityMean)</td>\n",
       "      <td>-0.994764</td>\n",
       "      <td>0.994764</td>\n",
       "    </tr>\n",
       "    <tr>\n",
       "      <th>38252</th>\n",
       "      <td>tGravityAcc-arCoeff()-Z,1</td>\n",
       "      <td>tGravityAcc-arCoeff()-Z,2</td>\n",
       "      <td>-0.995195</td>\n",
       "      <td>0.995195</td>\n",
       "    </tr>\n",
       "  </tbody>\n",
       "</table>\n",
       "<p>22815 rows × 4 columns</p>\n",
       "</div>"
      ],
      "text/plain": [
       "                           feature1                    feature2  correlation  \\\n",
       "156894  fBodyBodyGyroJerkMag-mean()  fBodyBodyGyroJerkMag-sma()     1.000000   \n",
       "93902             tBodyAccMag-sma()        tGravityAccMag-sma()     1.000000   \n",
       "101139       tBodyAccJerkMag-mean()       tBodyAccJerkMag-sma()     1.000000   \n",
       "96706         tGravityAccMag-mean()        tGravityAccMag-sma()     1.000000   \n",
       "94257          tBodyAccMag-energy()     tGravityAccMag-energy()     1.000000   \n",
       "...                             ...                         ...          ...   \n",
       "22657          tGravityAcc-mean()-Y        angle(Y,gravityMean)    -0.993425   \n",
       "39225     tGravityAcc-arCoeff()-Z,3   tGravityAcc-arCoeff()-Z,4    -0.994267   \n",
       "38739     tGravityAcc-arCoeff()-Z,2   tGravityAcc-arCoeff()-Z,3    -0.994628   \n",
       "23176          tGravityAcc-mean()-Z        angle(Z,gravityMean)    -0.994764   \n",
       "38252     tGravityAcc-arCoeff()-Z,1   tGravityAcc-arCoeff()-Z,2    -0.995195   \n",
       "\n",
       "        abs_correlation  \n",
       "156894         1.000000  \n",
       "93902          1.000000  \n",
       "101139         1.000000  \n",
       "96706          1.000000  \n",
       "94257          1.000000  \n",
       "...                 ...  \n",
       "22657          0.993425  \n",
       "39225          0.994267  \n",
       "38739          0.994628  \n",
       "23176          0.994764  \n",
       "38252          0.995195  \n",
       "\n",
       "[22815 rows x 4 columns]"
      ]
     },
     "execution_count": 12,
     "metadata": {},
     "output_type": "execute_result"
    }
   ],
   "source": [
    "# The most highly correlated values\n",
    "corr_values.sort_values('correlation', ascending=False).query('abs_correlation>0.8')"
   ]
  },
  {
   "cell_type": "markdown",
   "metadata": {},
   "source": [
    "## Question 3\n",
    "\n",
    "* Split the data into train and test data sets. This can be done using any method, but consider using Scikit-learn's `StratifiedShuffleSplit` to maintain the same ratio of predictor classes.\n",
    "* Regardless of methods used to split the data, compare the ratio of classes in both the train and test splits.\n"
   ]
  },
  {
   "cell_type": "markdown",
   "metadata": {},
   "source": [
    "# O StratifiedShuffleSplit é utilizado como alternativa ao KFold.\n",
    "## 1) n_splits=1: consiste da quantidade de vezes que o dataset será embaralhado e particionado, para somente depois definir os grupos de teste e trieno.\n",
    "## 2) test_size=0.3: proporção do número de amostras que serão utilizadas no treinamento. Empiricamente, algumas proporções de amostras de treino e de teste são ideais para a obtenção de bons modelos (Ex.: 70%-30%, 80%-20%, 75%-25%, respectivamente treino-teste)\n",
    "## 3) random_state=42: um valor para iniciar o algoritmo de pseudo-aleatoriedade.\n",
    "\n",
    "## Os conjuntos de treino e teste são construídos preservando a porcentagem de amostras de cada classe ao particionar o dataset."
   ]
  },
  {
   "cell_type": "code",
   "execution_count": 13,
   "metadata": {},
   "outputs": [],
   "source": [
    "from sklearn.model_selection import StratifiedShuffleSplit\n",
    "\n",
    "# Get the split indexes\n",
    "strat_shuf_split = StratifiedShuffleSplit(n_splits=1,test_size=0.3, random_state=42)\n",
    "\n",
    "train_idx, test_idx = next(strat_shuf_split.split(data[feature_cols], data.Activity))\n",
    "\n",
    "# Create the dataframes\n",
    "X_train = data.loc[train_idx, feature_cols]\n",
    "y_train = data.loc[train_idx, 'Activity']\n",
    "\n",
    "X_test  = data.loc[test_idx, feature_cols]\n",
    "y_test  = data.loc[test_idx, 'Activity']"
   ]
  },
  {
   "cell_type": "code",
   "execution_count": 14,
   "metadata": {},
   "outputs": [
    {
     "data": {
      "text/plain": [
       "0    0.188792\n",
       "2    0.185046\n",
       "1    0.172562\n",
       "3    0.167152\n",
       "5    0.149951\n",
       "4    0.136496\n",
       "Name: Activity, dtype: float64"
      ]
     },
     "execution_count": 14,
     "metadata": {},
     "output_type": "execute_result"
    }
   ],
   "source": [
    "y_train.value_counts(normalize=True)"
   ]
  },
  {
   "cell_type": "code",
   "execution_count": 15,
   "metadata": {},
   "outputs": [
    {
     "data": {
      "text/plain": [
       "0    0.188673\n",
       "2    0.185113\n",
       "1    0.172492\n",
       "3    0.167314\n",
       "5    0.149838\n",
       "4    0.136570\n",
       "Name: Activity, dtype: float64"
      ]
     },
     "execution_count": 15,
     "metadata": {},
     "output_type": "execute_result"
    }
   ],
   "source": [
    "y_test.value_counts(normalize=True)"
   ]
  },
  {
   "cell_type": "markdown",
   "metadata": {},
   "source": [
    "## Question 4\n",
    "\n",
    "* Fit a logistic regression model without any regularization using all of the features. Be sure to read the documentation about fitting a multi-class model so you understand the coefficient output. Store the model.\n",
    "* Using cross validation to determine the hyperparameters, fit models using L1, and L2 regularization. Store each of these models as well. Note the limitations on multi-class models, solvers, and regularizations. The regularized models, in particular the L1 model, will probably take a while to fit."
   ]
  },
  {
   "cell_type": "code",
   "execution_count": 16,
   "metadata": {},
   "outputs": [],
   "source": [
    "from sklearn.linear_model import LogisticRegression\n",
    "\n",
    "# Standard logistic regression\n",
    "lr = LogisticRegression(max_iter=1000, n_jobs=16, penalty='none').fit(X_train, y_train)"
   ]
  },
  {
   "cell_type": "markdown",
   "metadata": {},
   "source": [
    "# A LogisticRegressionCV é a regressão losgística utilizando validação cruzada (Cross-Validation)\n",
    "\n",
    "# Regularização L1 (Lasso)\n",
    "## 1) Cs=10: tanto para a regularização Ridge (L2) quanto para a regularização Lasso (L1) é utilizado um coeficiente λ denominado Fator de Regularização, que serve como uma espécie de peso para a expressão. No LogisticRegressionCV, o parâmetro Cs pode ser um número inteiro ou uma lista de floats, e o mesmo representa a inversa do fator de regularização.\n",
    "\n",
    "## 2) cv=4: quando o parâmetro cv não é especificado, é utilizado por padrão o 5-fold. Como cv=4, é utilizado o 4-fold, ou seja, o dataset será subdividido em 4 partições ao realizar a validação cruzada\n",
    "\n",
    "## 3) penalty='l1': Define qual será o método de regularização a ser utilizado. No caso desta, será a regularização L1 (Lasso).\n",
    "\n",
    "## 4) solver='liblinear': De acordo com a documentação, os solvers ‘newton-cg’, ‘lbfgs’ and ‘sag’ conseguem utilizar apenas a regularização L2, enquanto ‘liblinear’ e ‘saga’ lidam com a regularização L1. Como trata-se da regularização L1, podem ser utilizados apenas os solvers 'liblinear' e 'saga'. E a própria documentação ainda afirma que a 'liblinear' é mais lenta que a 'saga', o que pôde ser verificado nesta prática.\n"
   ]
  },
  {
   "cell_type": "code",
   "execution_count": 17,
   "metadata": {},
   "outputs": [],
   "source": [
    "from sklearn.linear_model import LogisticRegressionCV\n",
    "\n",
    "# L1 regularized logistic regression\n",
    "lr_l1 = LogisticRegressionCV(n_jobs=16, Cs=10, cv=4, penalty='l1', solver='liblinear').fit(X_train, y_train)"
   ]
  },
  {
   "cell_type": "markdown",
   "metadata": {},
   "source": [
    "# Regressão L2 (Ridge)\n",
    "\n",
    "## 1) cv=4: serão realizadas 4 subpartições ao realizar a validação cruzada.\n",
    "\n",
    "## 2) penalty='l2': Define qual será o método de regularização a ser utilizado. No caso desta, será a regularização L2 (Ridge)\n",
    "\n",
    "## 3) Como não foi especificado o solver a ser utilizado, de acordo com a documentação o padrão a ser utilizado é o 'lbfgs'."
   ]
  },
  {
   "cell_type": "code",
   "execution_count": 39,
   "metadata": {},
   "outputs": [],
   "source": [
    "# L2 regularized logistic regression\n",
    "lr_l2 = LogisticRegressionCV(max_iter=1000, n_jobs=16, Cs=10, cv=4, penalty='l2').fit(X_train, y_train)"
   ]
  },
  {
   "cell_type": "markdown",
   "metadata": {},
   "source": [
    "## Question 5\n",
    "\n",
    "Compare the magnitudes of the coefficients for each of the models. If one-vs-rest fitting was used, each set of coefficients can be plotted separately. "
   ]
  },
  {
   "cell_type": "markdown",
   "metadata": {},
   "source": [
    "## Comparando os coeficientes dos três modelos, é possível observar alguns pontos: \n",
    "\n",
    "## 1) A regressão utilizando a regularização L1 zerou alguns coeficientes, o que era esperando, pois os coeficiente menos importantes serão penalizados mais fortemente.\n",
    "\n",
    "## 2) A regressão utilizando a regularização L2 penalizou todos os coeficientes, porém os coeficientes que eram maiores sem a regularização, foram mais penalizados.\n",
    "\n",
    "## 3) Também é possível observar que, apesar da regularização L1 ter zerado alguns coeficientes, os que foram julgados como mais importantes não foram tão penalizados"
   ]
  },
  {
   "cell_type": "code",
   "execution_count": 19,
   "metadata": {},
   "outputs": [
    {
     "data": {
      "text/html": [
       "<div>\n",
       "<style scoped>\n",
       "    .dataframe tbody tr th:only-of-type {\n",
       "        vertical-align: middle;\n",
       "    }\n",
       "\n",
       "    .dataframe tbody tr th {\n",
       "        vertical-align: top;\n",
       "    }\n",
       "\n",
       "    .dataframe thead tr th {\n",
       "        text-align: left;\n",
       "    }\n",
       "</style>\n",
       "<table border=\"1\" class=\"dataframe\">\n",
       "  <thead>\n",
       "    <tr>\n",
       "      <th></th>\n",
       "      <th colspan=\"6\" halign=\"left\">lr</th>\n",
       "      <th colspan=\"6\" halign=\"left\">l1</th>\n",
       "      <th colspan=\"6\" halign=\"left\">l2</th>\n",
       "    </tr>\n",
       "    <tr>\n",
       "      <th></th>\n",
       "      <th>0</th>\n",
       "      <th>1</th>\n",
       "      <th>2</th>\n",
       "      <th>3</th>\n",
       "      <th>4</th>\n",
       "      <th>5</th>\n",
       "      <th>0</th>\n",
       "      <th>1</th>\n",
       "      <th>2</th>\n",
       "      <th>3</th>\n",
       "      <th>4</th>\n",
       "      <th>5</th>\n",
       "      <th>0</th>\n",
       "      <th>1</th>\n",
       "      <th>2</th>\n",
       "      <th>3</th>\n",
       "      <th>4</th>\n",
       "      <th>5</th>\n",
       "    </tr>\n",
       "  </thead>\n",
       "  <tbody>\n",
       "    <tr>\n",
       "      <th>134</th>\n",
       "      <td>60.783705</td>\n",
       "      <td>233.098017</td>\n",
       "      <td>-152.151218</td>\n",
       "      <td>-132.916359</td>\n",
       "      <td>-113.853478</td>\n",
       "      <td>105.039332</td>\n",
       "      <td>0.000000</td>\n",
       "      <td>0.000000</td>\n",
       "      <td>0.000000</td>\n",
       "      <td>-0.695831</td>\n",
       "      <td>-0.383513</td>\n",
       "      <td>2.858436</td>\n",
       "      <td>0.106367</td>\n",
       "      <td>0.552738</td>\n",
       "      <td>-0.518720</td>\n",
       "      <td>-0.616281</td>\n",
       "      <td>-0.278813</td>\n",
       "      <td>0.754710</td>\n",
       "    </tr>\n",
       "    <tr>\n",
       "      <th>15</th>\n",
       "      <td>-47.856905</td>\n",
       "      <td>-106.184812</td>\n",
       "      <td>-46.127674</td>\n",
       "      <td>59.198599</td>\n",
       "      <td>63.902815</td>\n",
       "      <td>77.067977</td>\n",
       "      <td>0.012886</td>\n",
       "      <td>-0.452491</td>\n",
       "      <td>-0.172200</td>\n",
       "      <td>0.000000</td>\n",
       "      <td>-0.412859</td>\n",
       "      <td>-0.743731</td>\n",
       "      <td>0.047580</td>\n",
       "      <td>-0.278710</td>\n",
       "      <td>0.047287</td>\n",
       "      <td>-0.074442</td>\n",
       "      <td>0.067959</td>\n",
       "      <td>0.190326</td>\n",
       "    </tr>\n",
       "    <tr>\n",
       "      <th>53</th>\n",
       "      <td>242.031802</td>\n",
       "      <td>170.416330</td>\n",
       "      <td>-257.355386</td>\n",
       "      <td>-15.817639</td>\n",
       "      <td>30.522679</td>\n",
       "      <td>-169.797786</td>\n",
       "      <td>0.555676</td>\n",
       "      <td>2.365369</td>\n",
       "      <td>-6.671400</td>\n",
       "      <td>0.000000</td>\n",
       "      <td>0.904125</td>\n",
       "      <td>-1.735113</td>\n",
       "      <td>1.301332</td>\n",
       "      <td>1.632681</td>\n",
       "      <td>-2.892473</td>\n",
       "      <td>0.192214</td>\n",
       "      <td>0.410978</td>\n",
       "      <td>-0.644733</td>\n",
       "    </tr>\n",
       "    <tr>\n",
       "      <th>520</th>\n",
       "      <td>-86.824465</td>\n",
       "      <td>-34.735507</td>\n",
       "      <td>-118.832985</td>\n",
       "      <td>76.715351</td>\n",
       "      <td>99.990730</td>\n",
       "      <td>63.686876</td>\n",
       "      <td>-0.021947</td>\n",
       "      <td>0.000000</td>\n",
       "      <td>0.000000</td>\n",
       "      <td>0.000000</td>\n",
       "      <td>0.630327</td>\n",
       "      <td>-0.620841</td>\n",
       "      <td>-0.114790</td>\n",
       "      <td>0.027916</td>\n",
       "      <td>-0.229573</td>\n",
       "      <td>0.058527</td>\n",
       "      <td>0.220873</td>\n",
       "      <td>0.037047</td>\n",
       "    </tr>\n",
       "    <tr>\n",
       "      <th>184</th>\n",
       "      <td>-150.287675</td>\n",
       "      <td>-56.870608</td>\n",
       "      <td>-234.071842</td>\n",
       "      <td>202.630685</td>\n",
       "      <td>-37.395021</td>\n",
       "      <td>275.994461</td>\n",
       "      <td>-0.197122</td>\n",
       "      <td>2.173228</td>\n",
       "      <td>-0.874470</td>\n",
       "      <td>0.000000</td>\n",
       "      <td>-0.573138</td>\n",
       "      <td>1.491443</td>\n",
       "      <td>-0.316947</td>\n",
       "      <td>0.628360</td>\n",
       "      <td>-0.809081</td>\n",
       "      <td>0.490879</td>\n",
       "      <td>-0.723018</td>\n",
       "      <td>0.729807</td>\n",
       "    </tr>\n",
       "    <tr>\n",
       "      <th>148</th>\n",
       "      <td>32.661776</td>\n",
       "      <td>134.689830</td>\n",
       "      <td>-74.569679</td>\n",
       "      <td>149.651381</td>\n",
       "      <td>-99.229573</td>\n",
       "      <td>-143.203735</td>\n",
       "      <td>0.396394</td>\n",
       "      <td>0.449153</td>\n",
       "      <td>-0.076806</td>\n",
       "      <td>0.397677</td>\n",
       "      <td>-1.265400</td>\n",
       "      <td>-3.642653</td>\n",
       "      <td>0.064681</td>\n",
       "      <td>0.015772</td>\n",
       "      <td>0.129220</td>\n",
       "      <td>0.586658</td>\n",
       "      <td>-0.236306</td>\n",
       "      <td>-0.560024</td>\n",
       "    </tr>\n",
       "    <tr>\n",
       "      <th>255</th>\n",
       "      <td>-30.658843</td>\n",
       "      <td>-67.796981</td>\n",
       "      <td>48.281463</td>\n",
       "      <td>19.413280</td>\n",
       "      <td>60.302674</td>\n",
       "      <td>-29.541594</td>\n",
       "      <td>0.000000</td>\n",
       "      <td>0.000000</td>\n",
       "      <td>0.000000</td>\n",
       "      <td>0.000000</td>\n",
       "      <td>0.184662</td>\n",
       "      <td>-0.863133</td>\n",
       "      <td>-0.084447</td>\n",
       "      <td>-0.270194</td>\n",
       "      <td>0.340016</td>\n",
       "      <td>0.041498</td>\n",
       "      <td>0.203850</td>\n",
       "      <td>-0.230723</td>\n",
       "    </tr>\n",
       "    <tr>\n",
       "      <th>66</th>\n",
       "      <td>2.325607</td>\n",
       "      <td>-7.159918</td>\n",
       "      <td>-94.390724</td>\n",
       "      <td>-107.879215</td>\n",
       "      <td>195.239059</td>\n",
       "      <td>11.865191</td>\n",
       "      <td>0.436816</td>\n",
       "      <td>0.000000</td>\n",
       "      <td>0.000000</td>\n",
       "      <td>-0.529044</td>\n",
       "      <td>0.972873</td>\n",
       "      <td>0.000000</td>\n",
       "      <td>0.001381</td>\n",
       "      <td>-0.039109</td>\n",
       "      <td>-0.285269</td>\n",
       "      <td>-0.392180</td>\n",
       "      <td>0.700120</td>\n",
       "      <td>0.015057</td>\n",
       "    </tr>\n",
       "    <tr>\n",
       "      <th>40</th>\n",
       "      <td>-656.124576</td>\n",
       "      <td>-118.479365</td>\n",
       "      <td>464.044536</td>\n",
       "      <td>116.553413</td>\n",
       "      <td>131.022839</td>\n",
       "      <td>62.983152</td>\n",
       "      <td>-3.142125</td>\n",
       "      <td>6.057098</td>\n",
       "      <td>0.873815</td>\n",
       "      <td>0.000000</td>\n",
       "      <td>0.185431</td>\n",
       "      <td>0.000000</td>\n",
       "      <td>-2.782800</td>\n",
       "      <td>0.384919</td>\n",
       "      <td>2.212101</td>\n",
       "      <td>0.163531</td>\n",
       "      <td>0.168365</td>\n",
       "      <td>-0.146117</td>\n",
       "    </tr>\n",
       "    <tr>\n",
       "      <th>357</th>\n",
       "      <td>-10.762003</td>\n",
       "      <td>-65.066321</td>\n",
       "      <td>52.990167</td>\n",
       "      <td>-33.338399</td>\n",
       "      <td>-116.870372</td>\n",
       "      <td>173.046928</td>\n",
       "      <td>0.120784</td>\n",
       "      <td>0.000000</td>\n",
       "      <td>0.731553</td>\n",
       "      <td>0.388537</td>\n",
       "      <td>-0.573008</td>\n",
       "      <td>1.269085</td>\n",
       "      <td>-0.089612</td>\n",
       "      <td>-0.304757</td>\n",
       "      <td>0.319463</td>\n",
       "      <td>0.000370</td>\n",
       "      <td>-0.493658</td>\n",
       "      <td>0.568195</td>\n",
       "    </tr>\n",
       "  </tbody>\n",
       "</table>\n",
       "</div>"
      ],
      "text/plain": [
       "             lr                                                              \\\n",
       "              0           1           2           3           4           5   \n",
       "134   60.783705  233.098017 -152.151218 -132.916359 -113.853478  105.039332   \n",
       "15   -47.856905 -106.184812  -46.127674   59.198599   63.902815   77.067977   \n",
       "53   242.031802  170.416330 -257.355386  -15.817639   30.522679 -169.797786   \n",
       "520  -86.824465  -34.735507 -118.832985   76.715351   99.990730   63.686876   \n",
       "184 -150.287675  -56.870608 -234.071842  202.630685  -37.395021  275.994461   \n",
       "148   32.661776  134.689830  -74.569679  149.651381  -99.229573 -143.203735   \n",
       "255  -30.658843  -67.796981   48.281463   19.413280   60.302674  -29.541594   \n",
       "66     2.325607   -7.159918  -94.390724 -107.879215  195.239059   11.865191   \n",
       "40  -656.124576 -118.479365  464.044536  116.553413  131.022839   62.983152   \n",
       "357  -10.762003  -65.066321   52.990167  -33.338399 -116.870372  173.046928   \n",
       "\n",
       "           l1                                                          l2  \\\n",
       "            0         1         2         3         4         5         0   \n",
       "134  0.000000  0.000000  0.000000 -0.695831 -0.383513  2.858436  0.106367   \n",
       "15   0.012886 -0.452491 -0.172200  0.000000 -0.412859 -0.743731  0.047580   \n",
       "53   0.555676  2.365369 -6.671400  0.000000  0.904125 -1.735113  1.301332   \n",
       "520 -0.021947  0.000000  0.000000  0.000000  0.630327 -0.620841 -0.114790   \n",
       "184 -0.197122  2.173228 -0.874470  0.000000 -0.573138  1.491443 -0.316947   \n",
       "148  0.396394  0.449153 -0.076806  0.397677 -1.265400 -3.642653  0.064681   \n",
       "255  0.000000  0.000000  0.000000  0.000000  0.184662 -0.863133 -0.084447   \n",
       "66   0.436816  0.000000  0.000000 -0.529044  0.972873  0.000000  0.001381   \n",
       "40  -3.142125  6.057098  0.873815  0.000000  0.185431  0.000000 -2.782800   \n",
       "357  0.120784  0.000000  0.731553  0.388537 -0.573008  1.269085 -0.089612   \n",
       "\n",
       "                                                       \n",
       "            1         2         3         4         5  \n",
       "134  0.552738 -0.518720 -0.616281 -0.278813  0.754710  \n",
       "15  -0.278710  0.047287 -0.074442  0.067959  0.190326  \n",
       "53   1.632681 -2.892473  0.192214  0.410978 -0.644733  \n",
       "520  0.027916 -0.229573  0.058527  0.220873  0.037047  \n",
       "184  0.628360 -0.809081  0.490879 -0.723018  0.729807  \n",
       "148  0.015772  0.129220  0.586658 -0.236306 -0.560024  \n",
       "255 -0.270194  0.340016  0.041498  0.203850 -0.230723  \n",
       "66  -0.039109 -0.285269 -0.392180  0.700120  0.015057  \n",
       "40   0.384919  2.212101  0.163531  0.168365 -0.146117  \n",
       "357 -0.304757  0.319463  0.000370 -0.493658  0.568195  "
      ]
     },
     "execution_count": 19,
     "metadata": {},
     "output_type": "execute_result"
    }
   ],
   "source": [
    "# Combine all the coefficients into a dataframe\n",
    "coefficients = list()\n",
    "\n",
    "coeff_labels = ['lr', 'l1', 'l2']\n",
    "coeff_models = [lr, lr_l1, lr_l2]\n",
    "\n",
    "for lab,mod in zip(coeff_labels, coeff_models):\n",
    "    coeffs = mod.coef_\n",
    "    coeff_label = pd.MultiIndex(levels=[[lab], [0,1,2,3,4,5]], \n",
    "                                 codes=[[0,0,0,0,0,0], [0,1,2,3,4,5]])\n",
    "    coefficients.append(pd.DataFrame(coeffs.T, columns=coeff_label))\n",
    "\n",
    "coefficients = pd.concat(coefficients, axis=1)\n",
    "\n",
    "coefficients.sample(10)"
   ]
  },
  {
   "cell_type": "markdown",
   "metadata": {},
   "source": [
    "Prepare six separate plots for each of the multi-class coefficients."
   ]
  },
  {
   "cell_type": "markdown",
   "metadata": {},
   "source": [
    "## Analisando os gráficos, é possível observar que sem a regularização, os coeficientes variam consideravelmente dentro da mesma escala. Ao aplicar a regularização L2, é visível que todos os coeficientes ficaram muito próximos a zero, enquanto na regularização L1, é possível observar alguns pequenos picos fora da linha dos coeficientes da regressão com regularização L2, o que significa que estes coeficientes específicos não foram tão severamente penalizados como na L2."
   ]
  },
  {
   "cell_type": "code",
   "execution_count": 20,
   "metadata": {},
   "outputs": [
    {
     "data": {
      "image/png": "[encoded data removed]",
      "text/plain": [
       "<Figure size 720x720 with 6 Axes>"
      ]
     },
     "metadata": {},
     "output_type": "display_data"
    }
   ],
   "source": [
    "fig, axList = plt.subplots(nrows=3, ncols=2)\n",
    "axList = axList.flatten()\n",
    "fig.set_size_inches(10,10)\n",
    "\n",
    "\n",
    "for ax in enumerate(axList):\n",
    "    loc = ax[0]\n",
    "    ax = ax[1]\n",
    "    \n",
    "    data = coefficients.xs(loc, level=1, axis=1)\n",
    "    data.plot(marker='o', ls='', ms=2.0, ax=ax, legend=False)\n",
    "    \n",
    "    if ax is axList[0]:\n",
    "        ax.legend(loc=4)\n",
    "        \n",
    "    ax.set(title='Coefficient Set '+str(loc))\n",
    "\n",
    "plt.tight_layout()\n"
   ]
  },
  {
   "cell_type": "markdown",
   "metadata": {},
   "source": [
    "## Question 6\n",
    "\n",
    "* Predict and store the class for each model.\n",
    "* Also store the probability for the predicted class for each model. "
   ]
  },
  {
   "cell_type": "markdown",
   "metadata": {},
   "source": [
    "## Neste momento os modelos são utilizados para realizar as predições, e então os resultados são exibidos, permitindo uma comparação. As primeiras 5 amostras classificadas tiveram a mesma predição em todos os modelos, porém os dados não são suficientes para afirmar que a performance dos modelos é suficientemente boa."
   ]
  },
  {
   "cell_type": "code",
   "execution_count": 21,
   "metadata": {},
   "outputs": [
    {
     "data": {
      "text/html": [
       "<div>\n",
       "<style scoped>\n",
       "    .dataframe tbody tr th:only-of-type {\n",
       "        vertical-align: middle;\n",
       "    }\n",
       "\n",
       "    .dataframe tbody tr th {\n",
       "        vertical-align: top;\n",
       "    }\n",
       "\n",
       "    .dataframe thead th {\n",
       "        text-align: right;\n",
       "    }\n",
       "</style>\n",
       "<table border=\"1\" class=\"dataframe\">\n",
       "  <thead>\n",
       "    <tr style=\"text-align: right;\">\n",
       "      <th></th>\n",
       "      <th>lr</th>\n",
       "      <th>l1</th>\n",
       "      <th>l2</th>\n",
       "    </tr>\n",
       "  </thead>\n",
       "  <tbody>\n",
       "    <tr>\n",
       "      <th>0</th>\n",
       "      <td>3</td>\n",
       "      <td>3</td>\n",
       "      <td>3</td>\n",
       "    </tr>\n",
       "    <tr>\n",
       "      <th>1</th>\n",
       "      <td>5</td>\n",
       "      <td>5</td>\n",
       "      <td>5</td>\n",
       "    </tr>\n",
       "    <tr>\n",
       "      <th>2</th>\n",
       "      <td>3</td>\n",
       "      <td>3</td>\n",
       "      <td>3</td>\n",
       "    </tr>\n",
       "    <tr>\n",
       "      <th>3</th>\n",
       "      <td>1</td>\n",
       "      <td>1</td>\n",
       "      <td>1</td>\n",
       "    </tr>\n",
       "    <tr>\n",
       "      <th>4</th>\n",
       "      <td>0</td>\n",
       "      <td>0</td>\n",
       "      <td>0</td>\n",
       "    </tr>\n",
       "  </tbody>\n",
       "</table>\n",
       "</div>"
      ],
      "text/plain": [
       "   lr  l1  l2\n",
       "0   3   3   3\n",
       "1   5   5   5\n",
       "2   3   3   3\n",
       "3   1   1   1\n",
       "4   0   0   0"
      ]
     },
     "execution_count": 21,
     "metadata": {},
     "output_type": "execute_result"
    }
   ],
   "source": [
    "# Predict the class and the probability for each\n",
    "\n",
    "y_pred = list()\n",
    "y_prob = list()\n",
    "\n",
    "coeff_labels = ['lr', 'l1', 'l2']\n",
    "coeff_models = [lr, lr_l1, lr_l2]\n",
    "\n",
    "for lab,mod in zip(coeff_labels, coeff_models):\n",
    "    y_pred.append(pd.Series(mod.predict(X_test), name=lab))\n",
    "    y_prob.append(pd.Series(mod.predict_proba(X_test).max(axis=1), name=lab))\n",
    "    \n",
    "y_pred = pd.concat(y_pred, axis=1)\n",
    "y_prob = pd.concat(y_prob, axis=1)\n",
    "\n",
    "y_pred.head()\n"
   ]
  },
  {
   "cell_type": "markdown",
   "metadata": {},
   "source": [
    "## Na função abaixo, é possível verificar que a regressão sem regularização, para as 5 amostras exibidas, possui um grau de certeza maior em relação aos demais modelos. Para definir se um modelo como um todo é o melhor, antes é necessário avaliar as métricas de desempenho e as matrizes de confusão de cada um."
   ]
  },
  {
   "cell_type": "code",
   "execution_count": 22,
   "metadata": {},
   "outputs": [
    {
     "data": {
      "text/html": [
       "<div>\n",
       "<style scoped>\n",
       "    .dataframe tbody tr th:only-of-type {\n",
       "        vertical-align: middle;\n",
       "    }\n",
       "\n",
       "    .dataframe tbody tr th {\n",
       "        vertical-align: top;\n",
       "    }\n",
       "\n",
       "    .dataframe thead th {\n",
       "        text-align: right;\n",
       "    }\n",
       "</style>\n",
       "<table border=\"1\" class=\"dataframe\">\n",
       "  <thead>\n",
       "    <tr style=\"text-align: right;\">\n",
       "      <th></th>\n",
       "      <th>lr</th>\n",
       "      <th>l1</th>\n",
       "      <th>l2</th>\n",
       "    </tr>\n",
       "  </thead>\n",
       "  <tbody>\n",
       "    <tr>\n",
       "      <th>0</th>\n",
       "      <td>1.0</td>\n",
       "      <td>0.998990</td>\n",
       "      <td>0.999999</td>\n",
       "    </tr>\n",
       "    <tr>\n",
       "      <th>1</th>\n",
       "      <td>1.0</td>\n",
       "      <td>0.999783</td>\n",
       "      <td>0.999908</td>\n",
       "    </tr>\n",
       "    <tr>\n",
       "      <th>2</th>\n",
       "      <td>1.0</td>\n",
       "      <td>0.996307</td>\n",
       "      <td>0.999557</td>\n",
       "    </tr>\n",
       "    <tr>\n",
       "      <th>3</th>\n",
       "      <td>1.0</td>\n",
       "      <td>0.999153</td>\n",
       "      <td>0.999327</td>\n",
       "    </tr>\n",
       "    <tr>\n",
       "      <th>4</th>\n",
       "      <td>1.0</td>\n",
       "      <td>0.999921</td>\n",
       "      <td>0.999784</td>\n",
       "    </tr>\n",
       "  </tbody>\n",
       "</table>\n",
       "</div>"
      ],
      "text/plain": [
       "    lr        l1        l2\n",
       "0  1.0  0.998990  0.999999\n",
       "1  1.0  0.999783  0.999908\n",
       "2  1.0  0.996307  0.999557\n",
       "3  1.0  0.999153  0.999327\n",
       "4  1.0  0.999921  0.999784"
      ]
     },
     "execution_count": 22,
     "metadata": {},
     "output_type": "execute_result"
    }
   ],
   "source": [
    "y_prob.head()"
   ]
  },
  {
   "cell_type": "markdown",
   "metadata": {},
   "source": [
    "## Question 7\n",
    "\n",
    "For each model, calculate the following error metrics: \n",
    "\n",
    "* accuracy\n",
    "* precision\n",
    "* recall\n",
    "* fscore\n",
    "* confusion matrix\n",
    "\n",
    "Decide how to combine the multi-class metrics into a single value for each model."
   ]
  },
  {
   "cell_type": "code",
   "execution_count": 23,
   "metadata": {},
   "outputs": [],
   "source": [
    "from sklearn.metrics import precision_recall_fscore_support as score\n",
    "from sklearn.metrics import confusion_matrix, accuracy_score, roc_auc_score\n",
    "from sklearn.preprocessing import label_binarize\n",
    "\n",
    "metrics = list()\n",
    "cm = dict()\n",
    "\n",
    "for lab in coeff_labels:\n",
    "\n",
    "    # Preciision, recall, f-score from the multi-class support function\n",
    "    precision, recall, fscore, _ = score(y_test, y_pred[lab], average='weighted')\n",
    "    \n",
    "    # The usual way to calculate accuracy\n",
    "    accuracy = accuracy_score(y_test, y_pred[lab])\n",
    "    \n",
    "    # ROC-AUC scores can be calculated by binarizing the data\n",
    "    auc = roc_auc_score(label_binarize(y_test, classes=[0,1,2,3,4,5]),\n",
    "              label_binarize(y_pred[lab], classes=[0,1,2,3,4,5]), \n",
    "              average='weighted')\n",
    "    \n",
    "    # Last, the confusion matrix\n",
    "    cm[lab] = confusion_matrix(y_test, y_pred[lab])\n",
    "    \n",
    "    metrics.append(pd.Series({'precision':precision, 'recall':recall, \n",
    "                              'fscore':fscore, 'accuracy':accuracy,\n",
    "                              'auc':auc}, \n",
    "                             name=lab))\n",
    "\n",
    "metrics = pd.concat(metrics, axis=1)\n"
   ]
  },
  {
   "cell_type": "markdown",
   "metadata": {},
   "source": [
    "## Analisando as métricas de desempenho dos modelos, é possível extrair algumas conclusões:\n",
    "\n",
    "## 1) O melhor modelo foi com a regularização L2, visto que todas as métricas foram superiores a ambos os modelos com regularização L2 e sem regularização.\n",
    "\n",
    "## 2) Apesar do modelo com regularização L2 ter sido superior, o modelo sem regularização e o modelo com regularização L1 também obtiveram bons desempenhos, apenas ligeiramente abaixo do L2."
   ]
  },
  {
   "cell_type": "code",
   "execution_count": 24,
   "metadata": {},
   "outputs": [
    {
     "data": {
      "text/html": [
       "<div>\n",
       "<style scoped>\n",
       "    .dataframe tbody tr th:only-of-type {\n",
       "        vertical-align: middle;\n",
       "    }\n",
       "\n",
       "    .dataframe tbody tr th {\n",
       "        vertical-align: top;\n",
       "    }\n",
       "\n",
       "    .dataframe thead th {\n",
       "        text-align: right;\n",
       "    }\n",
       "</style>\n",
       "<table border=\"1\" class=\"dataframe\">\n",
       "  <thead>\n",
       "    <tr style=\"text-align: right;\">\n",
       "      <th></th>\n",
       "      <th>lr</th>\n",
       "      <th>l1</th>\n",
       "      <th>l2</th>\n",
       "    </tr>\n",
       "  </thead>\n",
       "  <tbody>\n",
       "    <tr>\n",
       "      <th>precision</th>\n",
       "      <td>0.982510</td>\n",
       "      <td>0.983505</td>\n",
       "      <td>0.985117</td>\n",
       "    </tr>\n",
       "    <tr>\n",
       "      <th>recall</th>\n",
       "      <td>0.982524</td>\n",
       "      <td>0.983495</td>\n",
       "      <td>0.985113</td>\n",
       "    </tr>\n",
       "    <tr>\n",
       "      <th>fscore</th>\n",
       "      <td>0.982512</td>\n",
       "      <td>0.983493</td>\n",
       "      <td>0.985113</td>\n",
       "    </tr>\n",
       "    <tr>\n",
       "      <th>accuracy</th>\n",
       "      <td>0.982524</td>\n",
       "      <td>0.983495</td>\n",
       "      <td>0.985113</td>\n",
       "    </tr>\n",
       "    <tr>\n",
       "      <th>auc</th>\n",
       "      <td>0.989397</td>\n",
       "      <td>0.989952</td>\n",
       "      <td>0.990950</td>\n",
       "    </tr>\n",
       "  </tbody>\n",
       "</table>\n",
       "</div>"
      ],
      "text/plain": [
       "                 lr        l1        l2\n",
       "precision  0.982510  0.983505  0.985117\n",
       "recall     0.982524  0.983495  0.985113\n",
       "fscore     0.982512  0.983493  0.985113\n",
       "accuracy   0.982524  0.983495  0.985113\n",
       "auc        0.989397  0.989952  0.990950"
      ]
     },
     "execution_count": 24,
     "metadata": {},
     "output_type": "execute_result"
    }
   ],
   "source": [
    "#Run the metrics\n",
    "metrics"
   ]
  },
  {
   "cell_type": "markdown",
   "metadata": {},
   "source": [
    "## Question 8\n",
    "\n",
    "Display or plot the confusion matrix for each model."
   ]
  },
  {
   "cell_type": "markdown",
   "metadata": {},
   "source": [
    "## Analisando as matrizes de confusão de cada modelo, é possível observar que o modelo com regularização L2 errou a menor quantidade de classificações."
   ]
  },
  {
   "cell_type": "code",
   "execution_count": 25,
   "metadata": {},
   "outputs": [
    {
     "data": {
      "image/png": "[encoded data removed]",
      "text/plain": [
       "<Figure size 864x720 with 7 Axes>"
      ]
     },
     "metadata": {},
     "output_type": "display_data"
    }
   ],
   "source": [
    "\n",
    "fig, axList = plt.subplots(nrows=2, ncols=2)\n",
    "axList = axList.flatten()\n",
    "fig.set_size_inches(12, 10)\n",
    "\n",
    "axList[-1].axis('off')\n",
    "\n",
    "for ax,lab in zip(axList[:-1], coeff_labels):\n",
    "    sns.heatmap(cm[lab], ax=ax, annot=True, fmt='d');\n",
    "    ax.set(title=lab);\n",
    "    \n",
    "plt.tight_layout()\n"
   ]
  },
  {
   "cell_type": "markdown",
   "metadata": {
    "collapsed": true
   },
   "source": [
    "## Question 9\n",
    " Identify highly correlated columns and drop those columns before building models"
   ]
  },
  {
   "cell_type": "markdown",
   "metadata": {},
   "source": [
    "## Utilizando o VarianceThreshold para seleção de features, o resultado obtido foi indesejado, o modelo sem regularização teve um desempenho muito ruim (~0,18 de precision, recall e acurácia). Os modelos com regularização não conseguiram generalizar e tiveram um desempenho ainda pior, ignorando completamente algumas classes.\n",
    "\n",
    "## Para tentar uma solução, foi utilizado o SelectKBest para a seleção de features, pois permite treinamento supervisionado. Não foi utilizado o chi2 como método de seleção pois o mesmo não permite números negativos. Desta forma, como não foi passado por parâmetro um método de seleção, o padrão utilizado é o 'f_classif', que por sua vez permite números negativos. A quantidade de features a serem selecionadas foi estabelecido em 400, valores muito baixos como 50-100 mantém as features mais importantes mas não são o suficiente para que o modelo consiga generalizar suficientemente.\n",
    "\n",
    "## Contudo, mesmo utilizando o SelectKBest, apesar de melhorar as métricas de todos os modelos, o resultado ainda foi indesejado."
   ]
  },
  {
   "cell_type": "code",
   "execution_count": 26,
   "metadata": {},
   "outputs": [],
   "source": [
    "from sklearn.feature_selection import SelectKBest\n",
    "from sklearn.feature_selection import chi2\n",
    "from sklearn.feature_selection import VarianceThreshold\n",
    "\n",
    "#threshold with .7\n",
    "\n",
    "sel = VarianceThreshold(threshold=(.7 * (1 - .7)))\n",
    "\n",
    "data2 = pd.concat([X_train,X_test])\n",
    "data_y = pd.concat([y_train,y_test])\n",
    "#data_new = SelectKBest(k=400).fit_transform(data2, data_y)\n",
    "data_new = pd.DataFrame(sel.fit_transform(data2))\n",
    "\n",
    "from sklearn.model_selection import train_test_split\n",
    "\n",
    "X_train_new, X_test_new = train_test_split(data_new)\n",
    "Y_train_new, Y_test_new = train_test_split(data_y)"
   ]
  },
  {
   "cell_type": "markdown",
   "metadata": {},
   "source": [
    " Repeat Model building with new training data after removing higly correlated columns"
   ]
  },
  {
   "cell_type": "markdown",
   "metadata": {},
   "source": [
    "## Modelos executados novamente, porém utilizando os novos datasets com as features selecionadas."
   ]
  },
  {
   "cell_type": "code",
   "execution_count": 27,
   "metadata": {},
   "outputs": [],
   "source": [
    "lr_new = LogisticRegression(max_iter=1000, n_jobs=16, penalty='none').fit(X_train_new, Y_train_new)"
   ]
  },
  {
   "cell_type": "code",
   "execution_count": 28,
   "metadata": {},
   "outputs": [],
   "source": [
    "lr_l1_new = LogisticRegressionCV(n_jobs=16, Cs=10, cv=4, penalty='l1', solver='liblinear').fit(X_train_new, Y_train_new)"
   ]
  },
  {
   "cell_type": "code",
   "execution_count": 29,
   "metadata": {},
   "outputs": [],
   "source": [
    "lr_l2_new = LogisticRegressionCV(n_jobs=16, Cs=10, cv=4, penalty='l2').fit(X_train_new, Y_train_new)"
   ]
  },
  {
   "cell_type": "markdown",
   "metadata": {},
   "source": [
    "## Question 10\n",
    "\n",
    "Compare the magnitudes of the coefficients for each of the models. If one-vs-rest fitting was used, each set of coefficients can be plotted separately. "
   ]
  },
  {
   "cell_type": "markdown",
   "metadata": {},
   "source": [
    "## Utilizando o VarianceThreshold, foi possível observar que os coeficientes do modelo com regularização L1 ficaram todos zerados. Eventuais ajustes no threshold não surtiram efeito. Os coeficites do modelo com regularização L2 foram ajustados, porém não é possível tirar conclusões sem analisar as métricas de desempenho e as matrizes de confusão."
   ]
  },
  {
   "cell_type": "code",
   "execution_count": 30,
   "metadata": {},
   "outputs": [
    {
     "data": {
      "text/html": [
       "<div>\n",
       "<style scoped>\n",
       "    .dataframe tbody tr th:only-of-type {\n",
       "        vertical-align: middle;\n",
       "    }\n",
       "\n",
       "    .dataframe tbody tr th {\n",
       "        vertical-align: top;\n",
       "    }\n",
       "\n",
       "    .dataframe thead tr th {\n",
       "        text-align: left;\n",
       "    }\n",
       "</style>\n",
       "<table border=\"1\" class=\"dataframe\">\n",
       "  <thead>\n",
       "    <tr>\n",
       "      <th></th>\n",
       "      <th colspan=\"6\" halign=\"left\">lr_new</th>\n",
       "      <th colspan=\"6\" halign=\"left\">l1_new</th>\n",
       "      <th colspan=\"6\" halign=\"left\">l2_new</th>\n",
       "    </tr>\n",
       "    <tr>\n",
       "      <th></th>\n",
       "      <th>0</th>\n",
       "      <th>1</th>\n",
       "      <th>2</th>\n",
       "      <th>3</th>\n",
       "      <th>4</th>\n",
       "      <th>5</th>\n",
       "      <th>0</th>\n",
       "      <th>1</th>\n",
       "      <th>2</th>\n",
       "      <th>3</th>\n",
       "      <th>4</th>\n",
       "      <th>5</th>\n",
       "      <th>0</th>\n",
       "      <th>1</th>\n",
       "      <th>2</th>\n",
       "      <th>3</th>\n",
       "      <th>4</th>\n",
       "      <th>5</th>\n",
       "    </tr>\n",
       "  </thead>\n",
       "  <tbody>\n",
       "    <tr>\n",
       "      <th>186</th>\n",
       "      <td>0.049647</td>\n",
       "      <td>0.298497</td>\n",
       "      <td>-0.222503</td>\n",
       "      <td>0.866310</td>\n",
       "      <td>-0.650039</td>\n",
       "      <td>-0.341912</td>\n",
       "      <td>0.000000</td>\n",
       "      <td>0.0</td>\n",
       "      <td>0.0</td>\n",
       "      <td>0.0</td>\n",
       "      <td>0.0</td>\n",
       "      <td>0.0</td>\n",
       "      <td>-1.994090e-04</td>\n",
       "      <td>0.000636</td>\n",
       "      <td>0.000085</td>\n",
       "      <td>-0.000060</td>\n",
       "      <td>-0.000087</td>\n",
       "      <td>-0.000374</td>\n",
       "    </tr>\n",
       "    <tr>\n",
       "      <th>30</th>\n",
       "      <td>-0.179743</td>\n",
       "      <td>-0.196343</td>\n",
       "      <td>1.381572</td>\n",
       "      <td>0.063188</td>\n",
       "      <td>0.155912</td>\n",
       "      <td>-1.224586</td>\n",
       "      <td>0.000000</td>\n",
       "      <td>0.0</td>\n",
       "      <td>0.0</td>\n",
       "      <td>0.0</td>\n",
       "      <td>0.0</td>\n",
       "      <td>0.0</td>\n",
       "      <td>-1.400337e-04</td>\n",
       "      <td>0.000613</td>\n",
       "      <td>0.000034</td>\n",
       "      <td>0.000353</td>\n",
       "      <td>-0.000204</td>\n",
       "      <td>-0.000656</td>\n",
       "    </tr>\n",
       "    <tr>\n",
       "      <th>252</th>\n",
       "      <td>-0.048240</td>\n",
       "      <td>0.022296</td>\n",
       "      <td>0.275734</td>\n",
       "      <td>-0.100662</td>\n",
       "      <td>0.183006</td>\n",
       "      <td>-0.332134</td>\n",
       "      <td>0.000000</td>\n",
       "      <td>0.0</td>\n",
       "      <td>0.0</td>\n",
       "      <td>0.0</td>\n",
       "      <td>0.0</td>\n",
       "      <td>0.0</td>\n",
       "      <td>-6.854121e-05</td>\n",
       "      <td>0.000391</td>\n",
       "      <td>0.000559</td>\n",
       "      <td>-0.000305</td>\n",
       "      <td>0.000045</td>\n",
       "      <td>-0.000621</td>\n",
       "    </tr>\n",
       "    <tr>\n",
       "      <th>3</th>\n",
       "      <td>-0.077057</td>\n",
       "      <td>-0.048453</td>\n",
       "      <td>-0.877419</td>\n",
       "      <td>0.619850</td>\n",
       "      <td>-0.438100</td>\n",
       "      <td>0.821179</td>\n",
       "      <td>0.000000</td>\n",
       "      <td>0.0</td>\n",
       "      <td>0.0</td>\n",
       "      <td>0.0</td>\n",
       "      <td>0.0</td>\n",
       "      <td>0.0</td>\n",
       "      <td>9.821954e-07</td>\n",
       "      <td>-0.000284</td>\n",
       "      <td>-0.000754</td>\n",
       "      <td>0.000356</td>\n",
       "      <td>0.000276</td>\n",
       "      <td>0.000406</td>\n",
       "    </tr>\n",
       "    <tr>\n",
       "      <th>23</th>\n",
       "      <td>0.780131</td>\n",
       "      <td>0.145313</td>\n",
       "      <td>-0.358100</td>\n",
       "      <td>-0.348231</td>\n",
       "      <td>-0.045307</td>\n",
       "      <td>-0.173806</td>\n",
       "      <td>0.000000</td>\n",
       "      <td>0.0</td>\n",
       "      <td>0.0</td>\n",
       "      <td>0.0</td>\n",
       "      <td>0.0</td>\n",
       "      <td>0.0</td>\n",
       "      <td>-4.466609e-04</td>\n",
       "      <td>-0.000179</td>\n",
       "      <td>0.000406</td>\n",
       "      <td>0.000193</td>\n",
       "      <td>0.001250</td>\n",
       "      <td>-0.001224</td>\n",
       "    </tr>\n",
       "    <tr>\n",
       "      <th>0</th>\n",
       "      <td>-0.735932</td>\n",
       "      <td>0.490237</td>\n",
       "      <td>0.077024</td>\n",
       "      <td>0.421121</td>\n",
       "      <td>-0.034284</td>\n",
       "      <td>-0.218166</td>\n",
       "      <td>0.000000</td>\n",
       "      <td>0.0</td>\n",
       "      <td>0.0</td>\n",
       "      <td>0.0</td>\n",
       "      <td>0.0</td>\n",
       "      <td>0.0</td>\n",
       "      <td>1.906193e-05</td>\n",
       "      <td>-0.000265</td>\n",
       "      <td>-0.000731</td>\n",
       "      <td>0.000265</td>\n",
       "      <td>0.000263</td>\n",
       "      <td>0.000448</td>\n",
       "    </tr>\n",
       "    <tr>\n",
       "      <th>18</th>\n",
       "      <td>0.039363</td>\n",
       "      <td>-0.621627</td>\n",
       "      <td>-0.015238</td>\n",
       "      <td>0.239670</td>\n",
       "      <td>1.141771</td>\n",
       "      <td>-0.783939</td>\n",
       "      <td>0.000000</td>\n",
       "      <td>0.0</td>\n",
       "      <td>0.0</td>\n",
       "      <td>0.0</td>\n",
       "      <td>0.0</td>\n",
       "      <td>0.0</td>\n",
       "      <td>2.894264e-04</td>\n",
       "      <td>-0.000745</td>\n",
       "      <td>-0.000644</td>\n",
       "      <td>0.000227</td>\n",
       "      <td>0.000941</td>\n",
       "      <td>-0.000068</td>\n",
       "    </tr>\n",
       "    <tr>\n",
       "      <th>388</th>\n",
       "      <td>-0.322822</td>\n",
       "      <td>-0.425969</td>\n",
       "      <td>0.583022</td>\n",
       "      <td>0.433363</td>\n",
       "      <td>-0.312119</td>\n",
       "      <td>0.044525</td>\n",
       "      <td>0.000000</td>\n",
       "      <td>0.0</td>\n",
       "      <td>0.0</td>\n",
       "      <td>0.0</td>\n",
       "      <td>0.0</td>\n",
       "      <td>0.0</td>\n",
       "      <td>4.336748e-04</td>\n",
       "      <td>-0.000060</td>\n",
       "      <td>-0.000392</td>\n",
       "      <td>-0.000405</td>\n",
       "      <td>0.000309</td>\n",
       "      <td>0.000115</td>\n",
       "    </tr>\n",
       "    <tr>\n",
       "      <th>335</th>\n",
       "      <td>0.069341</td>\n",
       "      <td>-0.194318</td>\n",
       "      <td>0.320508</td>\n",
       "      <td>0.149902</td>\n",
       "      <td>-0.509904</td>\n",
       "      <td>0.164472</td>\n",
       "      <td>0.000000</td>\n",
       "      <td>0.0</td>\n",
       "      <td>0.0</td>\n",
       "      <td>0.0</td>\n",
       "      <td>0.0</td>\n",
       "      <td>0.0</td>\n",
       "      <td>8.949876e-05</td>\n",
       "      <td>0.000226</td>\n",
       "      <td>0.000053</td>\n",
       "      <td>-0.000631</td>\n",
       "      <td>0.000044</td>\n",
       "      <td>0.000219</td>\n",
       "    </tr>\n",
       "    <tr>\n",
       "      <th>171</th>\n",
       "      <td>-0.602559</td>\n",
       "      <td>0.730407</td>\n",
       "      <td>-0.625213</td>\n",
       "      <td>0.007520</td>\n",
       "      <td>1.514945</td>\n",
       "      <td>-1.025100</td>\n",
       "      <td>-0.030224</td>\n",
       "      <td>0.0</td>\n",
       "      <td>0.0</td>\n",
       "      <td>0.0</td>\n",
       "      <td>0.0</td>\n",
       "      <td>0.0</td>\n",
       "      <td>-8.204806e-04</td>\n",
       "      <td>-0.000049</td>\n",
       "      <td>-0.000160</td>\n",
       "      <td>-0.000468</td>\n",
       "      <td>0.001477</td>\n",
       "      <td>0.000020</td>\n",
       "    </tr>\n",
       "  </tbody>\n",
       "</table>\n",
       "</div>"
      ],
      "text/plain": [
       "       lr_new                                                      l1_new  \\\n",
       "            0         1         2         3         4         5         0   \n",
       "186  0.049647  0.298497 -0.222503  0.866310 -0.650039 -0.341912  0.000000   \n",
       "30  -0.179743 -0.196343  1.381572  0.063188  0.155912 -1.224586  0.000000   \n",
       "252 -0.048240  0.022296  0.275734 -0.100662  0.183006 -0.332134  0.000000   \n",
       "3   -0.077057 -0.048453 -0.877419  0.619850 -0.438100  0.821179  0.000000   \n",
       "23   0.780131  0.145313 -0.358100 -0.348231 -0.045307 -0.173806  0.000000   \n",
       "0   -0.735932  0.490237  0.077024  0.421121 -0.034284 -0.218166  0.000000   \n",
       "18   0.039363 -0.621627 -0.015238  0.239670  1.141771 -0.783939  0.000000   \n",
       "388 -0.322822 -0.425969  0.583022  0.433363 -0.312119  0.044525  0.000000   \n",
       "335  0.069341 -0.194318  0.320508  0.149902 -0.509904  0.164472  0.000000   \n",
       "171 -0.602559  0.730407 -0.625213  0.007520  1.514945 -1.025100 -0.030224   \n",
       "\n",
       "                                    l2_new                                \\\n",
       "       1    2    3    4    5             0         1         2         3   \n",
       "186  0.0  0.0  0.0  0.0  0.0 -1.994090e-04  0.000636  0.000085 -0.000060   \n",
       "30   0.0  0.0  0.0  0.0  0.0 -1.400337e-04  0.000613  0.000034  0.000353   \n",
       "252  0.0  0.0  0.0  0.0  0.0 -6.854121e-05  0.000391  0.000559 -0.000305   \n",
       "3    0.0  0.0  0.0  0.0  0.0  9.821954e-07 -0.000284 -0.000754  0.000356   \n",
       "23   0.0  0.0  0.0  0.0  0.0 -4.466609e-04 -0.000179  0.000406  0.000193   \n",
       "0    0.0  0.0  0.0  0.0  0.0  1.906193e-05 -0.000265 -0.000731  0.000265   \n",
       "18   0.0  0.0  0.0  0.0  0.0  2.894264e-04 -0.000745 -0.000644  0.000227   \n",
       "388  0.0  0.0  0.0  0.0  0.0  4.336748e-04 -0.000060 -0.000392 -0.000405   \n",
       "335  0.0  0.0  0.0  0.0  0.0  8.949876e-05  0.000226  0.000053 -0.000631   \n",
       "171  0.0  0.0  0.0  0.0  0.0 -8.204806e-04 -0.000049 -0.000160 -0.000468   \n",
       "\n",
       "                         \n",
       "            4         5  \n",
       "186 -0.000087 -0.000374  \n",
       "30  -0.000204 -0.000656  \n",
       "252  0.000045 -0.000621  \n",
       "3    0.000276  0.000406  \n",
       "23   0.001250 -0.001224  \n",
       "0    0.000263  0.000448  \n",
       "18   0.000941 -0.000068  \n",
       "388  0.000309  0.000115  \n",
       "335  0.000044  0.000219  \n",
       "171  0.001477  0.000020  "
      ]
     },
     "execution_count": 30,
     "metadata": {},
     "output_type": "execute_result"
    }
   ],
   "source": [
    "new_coefficients = list()\n",
    "\n",
    "coeff_labels = ['lr_new', 'l1_new', 'l2_new']\n",
    "coeff_models = [lr_new, lr_l1_new, lr_l2_new]\n",
    "\n",
    "for lab,mod in zip(coeff_labels, coeff_models):\n",
    "    coeffs = mod.coef_\n",
    "    coeff_label = pd.MultiIndex(levels=[[lab], [0,1,2,3,4,5]], \n",
    "                                 codes=[[0,0,0,0,0,0], [0,1,2,3,4,5]])\n",
    "    new_coefficients.append(pd.DataFrame(coeffs.T, columns=coeff_label))\n",
    "\n",
    "new_coefficients = pd.concat(new_coefficients, axis=1)\n",
    "\n",
    "new_coefficients.sample(10)"
   ]
  },
  {
   "cell_type": "markdown",
   "metadata": {},
   "source": [
    "Prepare six separate plots for each of the multi-class coefficients."
   ]
  },
  {
   "cell_type": "markdown",
   "metadata": {},
   "source": [
    "## Utilizando o VarianceThreshold, é possível observar que a quantidade de features selecionadas foi muito pequena, o que pode explicar o motivo dos coeficientes de L1 terem sido zerados."
   ]
  },
  {
   "cell_type": "code",
   "execution_count": 31,
   "metadata": {},
   "outputs": [
    {
     "data": {
      "image/png": "[encoded data removed]",
      "text/plain": [
       "<Figure size 720x720 with 6 Axes>"
      ]
     },
     "metadata": {},
     "output_type": "display_data"
    }
   ],
   "source": [
    "fig, axList = plt.subplots(nrows=3, ncols=2)\n",
    "axList = axList.flatten()\n",
    "fig.set_size_inches(10,10)\n",
    "\n",
    "\n",
    "for ax in enumerate(axList):\n",
    "    loc = ax[0]\n",
    "    ax = ax[1]\n",
    "    \n",
    "    data = new_coefficients.xs(loc, level=1, axis=1)\n",
    "    data.plot(marker='o', ls='', ms=2.0, ax=ax, legend=False)\n",
    "    ## Utilizando o VarianceThreshold, ambos os modelos com regularização L1 e L2 previram todas as amostras em questão como classe 0, enquanto a regressão sem regularização previu algumas como classe 2\n",
    "    if ax is axList[0]:\n",
    "        ax.legend(loc=4)\n",
    "        \n",
    "    ax.set(title='Coefficient Set '+str(loc))\n",
    "\n",
    "plt.tight_layout()"
   ]
  },
  {
   "cell_type": "markdown",
   "metadata": {},
   "source": [
    "## Question 11\n",
    "\n",
    "* Predict and store the class for each model.\n",
    "* Also store the probability for the predicted class for each model. "
   ]
  },
  {
   "cell_type": "markdown",
   "metadata": {},
   "source": [
    "## Utilizando o VarianceThreshold, é possível perceber que nas 5 amostras exibidas, os modelos variaram consideravelmente nas classificações que foram feitas. Contudo, como se tratam de apenas 5 amostras, não é possível tirar conclusões sobre a performance dos modelos com seleção de features."
   ]
  },
  {
   "cell_type": "code",
   "execution_count": 32,
   "metadata": {},
   "outputs": [
    {
     "data": {
      "text/html": [
       "<div>\n",
       "<style scoped>\n",
       "    .dataframe tbody tr th:only-of-type {\n",
       "        vertical-align: middle;\n",
       "    }\n",
       "\n",
       "    .dataframe tbody tr th {\n",
       "        vertical-align: top;\n",
       "    }\n",
       "\n",
       "    .dataframe thead th {\n",
       "        text-align: right;\n",
       "    }\n",
       "</style>\n",
       "<table border=\"1\" class=\"dataframe\">\n",
       "  <thead>\n",
       "    <tr style=\"text-align: right;\">\n",
       "      <th></th>\n",
       "      <th>lr_new</th>\n",
       "      <th>l1_new</th>\n",
       "      <th>l2_new</th>\n",
       "    </tr>\n",
       "  </thead>\n",
       "  <tbody>\n",
       "    <tr>\n",
       "      <th>0</th>\n",
       "      <td>4</td>\n",
       "      <td>1</td>\n",
       "      <td>0</td>\n",
       "    </tr>\n",
       "    <tr>\n",
       "      <th>1</th>\n",
       "      <td>1</td>\n",
       "      <td>1</td>\n",
       "      <td>2</td>\n",
       "    </tr>\n",
       "    <tr>\n",
       "      <th>2</th>\n",
       "      <td>0</td>\n",
       "      <td>1</td>\n",
       "      <td>2</td>\n",
       "    </tr>\n",
       "    <tr>\n",
       "      <th>3</th>\n",
       "      <td>0</td>\n",
       "      <td>1</td>\n",
       "      <td>2</td>\n",
       "    </tr>\n",
       "    <tr>\n",
       "      <th>4</th>\n",
       "      <td>3</td>\n",
       "      <td>1</td>\n",
       "      <td>0</td>\n",
       "    </tr>\n",
       "  </tbody>\n",
       "</table>\n",
       "</div>"
      ],
      "text/plain": [
       "   lr_new  l1_new  l2_new\n",
       "0       4       1       0\n",
       "1       1       1       2\n",
       "2       0       1       2\n",
       "3       0       1       2\n",
       "4       3       1       0"
      ]
     },
     "execution_count": 32,
     "metadata": {},
     "output_type": "execute_result"
    }
   ],
   "source": [
    "\n",
    "y_pred = list()\n",
    "y_prob = list()\n",
    "\n",
    "coeff_labels = ['lr_new', 'l1_new', 'l2_new']\n",
    "coeff_models = [lr_new, lr_l1_new, lr_l2_new]\n",
    "\n",
    "for lab,mod in zip(coeff_labels, coeff_models):\n",
    "    y_pred.append(pd.Series(mod.predict(X_test_new), name=lab))\n",
    "    y_prob.append(pd.Series(mod.predict_proba(X_test_new).max(axis=1), name=lab))\n",
    "    \n",
    "y_pred = pd.concat(y_pred, axis=1)\n",
    "y_prob = pd.concat(y_prob, axis=1)\n",
    "\n",
    "y_pred.head()\n"
   ]
  },
  {
   "cell_type": "markdown",
   "metadata": {},
   "source": [
    "## Utilizando o VarianceThreshold, é possível observar que o grau de certeza de todos os modelos é consideravelmente baixo (~20%), porém como são apenas 5 amostras, não é possível concluir nada sobre os modelos."
   ]
  },
  {
   "cell_type": "code",
   "execution_count": 33,
   "metadata": {},
   "outputs": [
    {
     "data": {
      "text/html": [
       "<div>\n",
       "<style scoped>\n",
       "    .dataframe tbody tr th:only-of-type {\n",
       "        vertical-align: middle;\n",
       "    }\n",
       "\n",
       "    .dataframe tbody tr th {\n",
       "        vertical-align: top;\n",
       "    }\n",
       "\n",
       "    .dataframe thead th {\n",
       "        text-align: right;\n",
       "    }\n",
       "</style>\n",
       "<table border=\"1\" class=\"dataframe\">\n",
       "  <thead>\n",
       "    <tr style=\"text-align: right;\">\n",
       "      <th></th>\n",
       "      <th>lr_new</th>\n",
       "      <th>l1_new</th>\n",
       "      <th>l2_new</th>\n",
       "    </tr>\n",
       "  </thead>\n",
       "  <tbody>\n",
       "    <tr>\n",
       "      <th>0</th>\n",
       "      <td>0.290737</td>\n",
       "      <td>0.183789</td>\n",
       "      <td>0.193139</td>\n",
       "    </tr>\n",
       "    <tr>\n",
       "      <th>1</th>\n",
       "      <td>0.197400</td>\n",
       "      <td>0.185980</td>\n",
       "      <td>0.192202</td>\n",
       "    </tr>\n",
       "    <tr>\n",
       "      <th>2</th>\n",
       "      <td>0.251628</td>\n",
       "      <td>0.185411</td>\n",
       "      <td>0.191506</td>\n",
       "    </tr>\n",
       "    <tr>\n",
       "      <th>3</th>\n",
       "      <td>0.224043</td>\n",
       "      <td>0.185719</td>\n",
       "      <td>0.192074</td>\n",
       "    </tr>\n",
       "    <tr>\n",
       "      <th>4</th>\n",
       "      <td>0.221383</td>\n",
       "      <td>0.185672</td>\n",
       "      <td>0.190123</td>\n",
       "    </tr>\n",
       "  </tbody>\n",
       "</table>\n",
       "</div>"
      ],
      "text/plain": [
       "     lr_new    l1_new    l2_new\n",
       "0  0.290737  0.183789  0.193139\n",
       "1  0.197400  0.185980  0.192202\n",
       "2  0.251628  0.185411  0.191506\n",
       "3  0.224043  0.185719  0.192074\n",
       "4  0.221383  0.185672  0.190123"
      ]
     },
     "execution_count": 33,
     "metadata": {},
     "output_type": "execute_result"
    }
   ],
   "source": [
    "y_prob.head()"
   ]
  },
  {
   "cell_type": "markdown",
   "metadata": {},
   "source": [
    "## Question 12\n",
    "\n",
    "For each model, calculate the following error metrics: \n",
    "\n",
    "* accuracy\n",
    "* precision\n",
    "* recall\n",
    "* fscore\n",
    "* confusion matrix\n",
    "\n",
    "Decide how to combine the multi-class metrics into a single value for each model."
   ]
  },
  {
   "cell_type": "code",
   "execution_count": 34,
   "metadata": {},
   "outputs": [
    {
     "name": "stderr",
     "output_type": "stream",
     "text": [
      "/usr/lib/python3/dist-packages/sklearn/metrics/_classification.py:1272: UndefinedMetricWarning: Precision and F-score are ill-defined and being set to 0.0 in labels with no predicted samples. Use `zero_division` parameter to control this behavior.\n",
      "  _warn_prf(average, modifier, msg_start, len(result))\n",
      "/usr/lib/python3/dist-packages/sklearn/metrics/_classification.py:1272: UndefinedMetricWarning: Precision and F-score are ill-defined and being set to 0.0 in labels with no predicted samples. Use `zero_division` parameter to control this behavior.\n",
      "  _warn_prf(average, modifier, msg_start, len(result))\n"
     ]
    }
   ],
   "source": [
    "metrics_new = list()\n",
    "cm = dict()\n",
    "\n",
    "for lab in coeff_labels:\n",
    "\n",
    "    # Preciision, recall, f-score from the multi-class support function\n",
    "    precision, recall, fscore, _ = score(Y_test_new, y_pred[lab], average='weighted')\n",
    "    \n",
    "    # The usual way to calculate accuracy\n",
    "    accuracy = accuracy_score(Y_test_new, y_pred[lab])\n",
    "    \n",
    "    # ROC-AUC scores can be calculated by binarizing the data\n",
    "    auc = roc_auc_score(label_binarize(Y_test_new, classes=[0,1,2,3,4,5]),\n",
    "              label_binarize(y_pred[lab], classes=[0,1,2,3,4,5]), \n",
    "              average='weighted')\n",
    "    \n",
    "    # Last, the confusion matrix\n",
    "    cm[lab] = confusion_matrix(Y_test_new, y_pred[lab])\n",
    "    \n",
    "    metrics_new.append(pd.Series({'precision':precision, 'recall':recall, \n",
    "                              'fscore':fscore, 'accuracy':accuracy,\n",
    "                              'auc':auc}, \n",
    "                             name=lab))\n",
    "\n",
    "metrics = pd.concat(metrics_new, axis=1)"
   ]
  },
  {
   "cell_type": "markdown",
   "metadata": {},
   "source": [
    "## Analisando as métricas, já é possível concluir que os modelos obtidos possuem um desempenho muito ruim, principalmente se comparados com os mesmos modelos sem seleção de features."
   ]
  },
  {
   "cell_type": "code",
   "execution_count": 35,
   "metadata": {},
   "outputs": [
    {
     "data": {
      "text/html": [
       "<div>\n",
       "<style scoped>\n",
       "    .dataframe tbody tr th:only-of-type {\n",
       "        vertical-align: middle;\n",
       "    }\n",
       "\n",
       "    .dataframe tbody tr th {\n",
       "        vertical-align: top;\n",
       "    }\n",
       "\n",
       "    .dataframe thead th {\n",
       "        text-align: right;\n",
       "    }\n",
       "</style>\n",
       "<table border=\"1\" class=\"dataframe\">\n",
       "  <thead>\n",
       "    <tr style=\"text-align: right;\">\n",
       "      <th></th>\n",
       "      <th>lr_new</th>\n",
       "      <th>l1_new</th>\n",
       "      <th>l2_new</th>\n",
       "    </tr>\n",
       "  </thead>\n",
       "  <tbody>\n",
       "    <tr>\n",
       "      <th>precision</th>\n",
       "      <td>0.166955</td>\n",
       "      <td>0.032610</td>\n",
       "      <td>0.070719</td>\n",
       "    </tr>\n",
       "    <tr>\n",
       "      <th>recall</th>\n",
       "      <td>0.172427</td>\n",
       "      <td>0.180583</td>\n",
       "      <td>0.192621</td>\n",
       "    </tr>\n",
       "    <tr>\n",
       "      <th>fscore</th>\n",
       "      <td>0.165143</td>\n",
       "      <td>0.055244</td>\n",
       "      <td>0.103112</td>\n",
       "    </tr>\n",
       "    <tr>\n",
       "      <th>accuracy</th>\n",
       "      <td>0.172427</td>\n",
       "      <td>0.180583</td>\n",
       "      <td>0.192621</td>\n",
       "    </tr>\n",
       "    <tr>\n",
       "      <th>auc</th>\n",
       "      <td>0.499369</td>\n",
       "      <td>0.500000</td>\n",
       "      <td>0.506048</td>\n",
       "    </tr>\n",
       "  </tbody>\n",
       "</table>\n",
       "</div>"
      ],
      "text/plain": [
       "             lr_new    l1_new    l2_new\n",
       "precision  0.166955  0.032610  0.070719\n",
       "recall     0.172427  0.180583  0.192621\n",
       "fscore     0.165143  0.055244  0.103112\n",
       "accuracy   0.172427  0.180583  0.192621\n",
       "auc        0.499369  0.500000  0.506048"
      ]
     },
     "execution_count": 35,
     "metadata": {},
     "output_type": "execute_result"
    }
   ],
   "source": [
    "metrics"
   ]
  },
  {
   "cell_type": "markdown",
   "metadata": {},
   "source": [
    "## Question 13\n",
    "\n",
    "Display or plot the confusion matrix for each model."
   ]
  },
  {
   "cell_type": "code",
   "execution_count": 36,
   "metadata": {},
   "outputs": [
    {
     "data": {
      "image/png": "[encoded data removed]",
      "text/plain": [
       "<Figure size 864x720 with 7 Axes>"
      ]
     },
     "metadata": {},
     "output_type": "display_data"
    }
   ],
   "source": [
    "fig, axList = plt.subplots(nrows=2, ncols=2)\n",
    "axList = axList.flatten()\n",
    "fig.set_size_inches(12, 10)\n",
    "\n",
    "axList[-1].axis('off')\n",
    "\n",
    "for ax,lab in zip(axList[:-1], coeff_labels):\n",
    "    sns.heatmap(cm[lab], ax=ax, annot=True, fmt='d');\n",
    "    ax.set(title=lab);\n",
    "    \n",
    "plt.tight_layout()"
   ]
  },
  {
   "cell_type": "markdown",
   "metadata": {
    "collapsed": true
   },
   "source": [
    "# As métricas de desempenho dos modelos sem seleção de features foi consideravelmente superior:\n",
    "\n",
    "### precision:\t0.982510\t0.983505\t0.985117   vs   0.166955\t0.032610\t0.070719\n",
    "### recall:\t        0.982524\t0.983495\t0.985113   vs   0.172427\t0.180583\t0.192621\n",
    "### fscore:\t       0.982512\t   0.983493\t   0.985113   vs   0.165143\t0.055244\t0.103112\n",
    "### accuracy:\t0.982524\t0.983495\t0.985113   vs   0.172427\t0.180583\t0.192621\n",
    "### auc:\t         0.989397\t 0.989952\t 0.990950   vs   0.499369\t0.500000\t0.506048\n"
   ]
  },
  {
   "cell_type": "markdown",
   "metadata": {
    "collapsed": true
   },
   "source": [
    "# As matrizes de confusão dos modelos com seleção de feature apontam que a quantidade de erros foi visivelmente superior. O modelo com regularização L1 classificou todas as amostras como uma mesma classe, enquanto a sem regularização foi extremamente aleatória, e a com regularização L2 alternou as classificações apenas entre duas classes, ilustrando as métricas baixas encontradas."
   ]
  },
  {
   "cell_type": "code",
   "execution_count": null,
   "metadata": {},
   "outputs": [],
   "source": []
  }
 ],
 "metadata": {
  "kernelspec": {
   "display_name": "Python 3",
   "language": "python",
   "name": "python3"
  },
  "language_info": {
   "codemirror_mode": {
    "name": "ipython",
    "version": 3
   },
   "file_extension": ".py",
   "mimetype": "text/x-python",
   "name": "python",
   "nbconvert_exporter": "python",
   "pygments_lexer": "ipython3",
   "version": "3.8.10"
  }
 },
 "nbformat": 4,
 "nbformat_minor": 2
}
