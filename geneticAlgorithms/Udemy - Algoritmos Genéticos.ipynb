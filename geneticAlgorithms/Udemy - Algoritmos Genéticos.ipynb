{
 "cells": [
  {
   "cell_type": "markdown",
   "id": "0131226b",
   "metadata": {},
   "source": [
    "# Algoritmos Genéticos"
   ]
  },
  {
   "cell_type": "markdown",
   "id": "46a929c8",
   "metadata": {},
   "source": [
    "Load of the Iris dataset."
   ]
  },
  {
   "cell_type": "markdown",
   "id": "725f8746",
   "metadata": {},
   "source": [
    "### Coletando as entradas: x e dispondo na matriz: X.\n"
   ]
  },
  {
   "cell_type": "code",
   "execution_count": null,
   "id": "07acd741",
   "metadata": {},
   "outputs": [],
   "source": [
    "#Definir Função"
   ]
  },
  {
   "cell_type": "code",
   "execution_count": 3,
   "id": "8045c3e0",
   "metadata": {},
   "outputs": [
    {
     "ename": "NameError",
     "evalue": "name 'random' is not defined",
     "output_type": "error",
     "traceback": [
      "\u001b[0;31m---------------------------------------------------------------------------\u001b[0m",
      "\u001b[0;31mNameError\u001b[0m                                 Traceback (most recent call last)",
      "\u001b[0;32m<ipython-input-3-a82251b70787>\u001b[0m in \u001b[0;36m<module>\u001b[0;34m\u001b[0m\n\u001b[1;32m      1\u001b[0m \u001b[0;32mfrom\u001b[0m \u001b[0mrandom\u001b[0m \u001b[0;32mimport\u001b[0m \u001b[0mRandom\u001b[0m\u001b[0;34m\u001b[0m\u001b[0;34m\u001b[0m\u001b[0m\n\u001b[1;32m      2\u001b[0m \u001b[0;34m\u001b[0m\u001b[0m\n\u001b[0;32m----> 3\u001b[0;31m \u001b[0mprint\u001b[0m\u001b[0;34m(\u001b[0m\u001b[0mrandom\u001b[0m\u001b[0;34m.\u001b[0m\u001b[0mrandrange\u001b[0m\u001b[0;34m(\u001b[0m\u001b[0;36m0\u001b[0m\u001b[0;34m,\u001b[0m\u001b[0;36m2\u001b[0m\u001b[0;34m)\u001b[0m \u001b[0;34m)\u001b[0m\u001b[0;34m\u001b[0m\u001b[0;34m\u001b[0m\u001b[0m\n\u001b[0m\u001b[1;32m      4\u001b[0m \u001b[0mprint\u001b[0m\u001b[0;34m(\u001b[0m\u001b[0mrandom\u001b[0m\u001b[0;34m.\u001b[0m\u001b[0mrandom\u001b[0m\u001b[0;34m(\u001b[0m\u001b[0;34m)\u001b[0m\u001b[0;34m)\u001b[0m\u001b[0;34m\u001b[0m\u001b[0;34m\u001b[0m\u001b[0m\n",
      "\u001b[0;31mNameError\u001b[0m: name 'random' is not defined"
     ]
    }
   ],
   "source": [
    "from random import Random\n",
    "\n",
    "print(random.randrange(0,2) )\n",
    "print(random.random())"
   ]
  },
  {
   "cell_type": "code",
   "execution_count": 4,
   "id": "c4013989",
   "metadata": {},
   "outputs": [],
   "source": [
    "#Inicialização de variáveis\n",
    "\n",
    "tam_pop = 10 #tamanho da populacao\n",
    "tam_genes = 5 #numero de genes do individuo\n",
    "geracoes = 10 #numero de geracoes.\n"
   ]
  },
  {
   "cell_type": "code",
   "execution_count": 126,
   "id": "604cc8e9",
   "metadata": {},
   "outputs": [],
   "source": [
    "#Indivíduo\n",
    "\n",
    "def gerar_individuo(tam_genes):\n",
    "    ind =''\n",
    "    for i in range(tam_genes):\n",
    "        ind += str(random.randrange(0,2))\n",
    "    return ind\n",
    "\n",
    "#Populacao\n",
    "        \n",
    "def gerar_populacao (tam_pop, tam_genes):\n",
    "    populacao=[]\n",
    "    for i in range(tam_pop):\n",
    "        populacao.append(gerar_individuo(tam_genes))\n",
    "    return populacao\n",
    "\n",
    "#fitness para pegar maior quantidade de 1\n",
    "def fitness(ind):\n",
    "    soma =0\n",
    "    for gene in ind:\n",
    "        soma += int(gene)\n",
    "    return soma\n",
    "\n",
    "#Mostrar indivíduos\n",
    "def mostrarIndividuos(populacao):\n",
    "    for ind in populacao:\n",
    "        print('Indivíduo: %s, avaliacão: %d' %(ind, fitness(ind)))\n",
    "    \n",
    "\n"
   ]
  },
  {
   "cell_type": "code",
   "execution_count": 5,
   "id": "4332f1b5",
   "metadata": {},
   "outputs": [],
   "source": [
    "#Selecionar os Pais por torneio. \n",
    "#Os melhores não são favorecidos\n",
    "def selecionar_pais(pop, tam_pop, k=3):#k tamanho do torneio, opcional 3\n",
    "    pais = []\n",
    "    for torneio in range(tam_pop): #quantidade torneios = tamanho da populacao\n",
    "        competidores = []  \n",
    "        for i in range(k):#cada torneio é realizado por K competidores\n",
    "            indice = random.randint(0, tam_pop-1)\n",
    "            competidores.append(pop[indice])#adicionando k competidores na lista\n",
    "            #vencedor\n",
    "        maior_avaliacao = fitness(competidores[0])#supor que o primeiro possui maior avaliacao\n",
    "        vencedor = competidores[0]\n",
    "        for i in range(1,k):#avalio os restantes\n",
    "            avaliacao =  fitness(competidores[i])\n",
    "            if avaliacao > maior_avaliacao:\n",
    "                maior_avaliacao = avaliacao\n",
    "                vencedor = competidores[i]\n",
    "        pais.append(vencedor)\n",
    "    return pais; #individuos classificados para serem pais"
   ]
  },
  {
   "cell_type": "code",
   "execution_count": 2,
   "id": "02ad6bbf",
   "metadata": {},
   "outputs": [
    {
     "ename": "NameError",
     "evalue": "name 'gerar_populacao' is not defined",
     "output_type": "error",
     "traceback": [
      "\u001b[0;31m---------------------------------------------------------------------------\u001b[0m",
      "\u001b[0;31mNameError\u001b[0m                                 Traceback (most recent call last)",
      "\u001b[0;32m<ipython-input-2-391696b057e4>\u001b[0m in \u001b[0;36m<module>\u001b[0;34m\u001b[0m\n\u001b[0;32m----> 1\u001b[0;31m \u001b[0mpopulacao\u001b[0m \u001b[0;34m=\u001b[0m \u001b[0mgerar_populacao\u001b[0m\u001b[0;34m(\u001b[0m\u001b[0mtam_pop\u001b[0m\u001b[0;34m,\u001b[0m\u001b[0mtam_genes\u001b[0m\u001b[0;34m)\u001b[0m\u001b[0;34m\u001b[0m\u001b[0;34m\u001b[0m\u001b[0m\n\u001b[0m",
      "\u001b[0;31mNameError\u001b[0m: name 'gerar_populacao' is not defined"
     ]
    }
   ],
   "source": [
    "populacao = gerar_populacao(tam_pop,tam_genes)\n"
   ]
  },
  {
   "cell_type": "code",
   "execution_count": 129,
   "id": "345df5b6",
   "metadata": {},
   "outputs": [
    {
     "name": "stdout",
     "output_type": "stream",
     "text": [
      "Indivíduo: 11100, avaliacão: 3\n",
      "Indivíduo: 01000, avaliacão: 1\n",
      "Indivíduo: 01111, avaliacão: 4\n",
      "Indivíduo: 00111, avaliacão: 3\n",
      "Indivíduo: 00010, avaliacão: 1\n",
      "Indivíduo: 01000, avaliacão: 1\n",
      "Indivíduo: 11010, avaliacão: 3\n",
      "Indivíduo: 10000, avaliacão: 1\n",
      "Indivíduo: 11111, avaliacão: 5\n",
      "Indivíduo: 01001, avaliacão: 2\n"
     ]
    }
   ],
   "source": [
    "mostrarIndividuos(populacao)"
   ]
  },
  {
   "cell_type": "code",
   "execution_count": 130,
   "id": "76cba30e",
   "metadata": {},
   "outputs": [
    {
     "name": "stdout",
     "output_type": "stream",
     "text": [
      "['11010', '11010', '11010', '00111', '11111', '11100', '01111', '11111', '01001', '11010']\n"
     ]
    }
   ],
   "source": [
    "pais = selecionar_pais(populacao,tam_pop)\n",
    "print(pais)\n",
    "\n"
   ]
  },
  {
   "cell_type": "code",
   "execution_count": 135,
   "id": "3984ff72",
   "metadata": {},
   "outputs": [],
   "source": [
    "#Gerar_filhos\n",
    "def gerar_filhos(pais, tam_pop, taxa_crossover=0.7):#crossover minimo de 70%\n",
    "    nova_pop=[] \n",
    "    for i in range(tam_pop//2):#divisao inteira, seleciono dois pais e gero dois filhos\n",
    "        pai1 =  random.choice(pais)\n",
    "        pai2= random.choice(pais)\n",
    "        \n",
    "        if random.random() < taxa_crossover:#crossover de um ponto\n",
    "            corte =  random.randint(1,len(pai1)-1)#escolho do ponto\n",
    "            filho1= pai1[0:corte] + pai2[corte:]\n",
    "            filho2= pai2[0:corte] + pai1[corte:]\n",
    "            nova_pop.append(filho1)\n",
    "            nova_pop.append(filho2)            \n",
    "        else: # se nao ocorrer o crossover, os pais continuam na populacao\n",
    "            nova_pop.append(pai1)\n",
    "            nova_pop.append(pai2) \n",
    "    return nova_pop"
   ]
  },
  {
   "cell_type": "code",
   "execution_count": 132,
   "id": "5f840ff8",
   "metadata": {},
   "outputs": [
    {
     "name": "stdout",
     "output_type": "stream",
     "text": [
      "crossover\n",
      "crossover\n",
      "crossover\n",
      "['11010', '11010', '11111', '01001', '11101', '01011', '11010', '11010', '11010', '11111']\n"
     ]
    }
   ],
   "source": [
    "filhos = gerar_filhos(pais,tam_pop)\n",
    "print(filhos)"
   ]
  },
  {
   "cell_type": "code",
   "execution_count": 137,
   "id": "7e014428",
   "metadata": {},
   "outputs": [],
   "source": [
    "#Mutacao\n",
    "def mutacao(pop,tam_pop,tam_genes,taxa_mutacao = 0.005):#taxa de 0.5%\n",
    "    nova_pop=[]\n",
    "    for i in range(tam_pop):\n",
    "        individuo=''\n",
    "        for j in range(tam_genes):\n",
    "            if random.random()<taxa_mutacao:                \n",
    "                if pop[i][j]=='0':\n",
    "                    individuo +='1'\n",
    "                else:\n",
    "                    individuo += '0'\n",
    "            else:\n",
    "                individuo += pop[i][j]\n",
    "        nova_pop.append(individuo)\n",
    "    return nova_pop"
   ]
  },
  {
   "cell_type": "code",
   "execution_count": 140,
   "id": "38ed23c2",
   "metadata": {},
   "outputs": [],
   "source": [
    "def melhor_individuo(pop, tam_pop):\n",
    "    melhor_avaliacao = fitness(pop[0])\n",
    "    indice_melhor =0\n",
    "    for i in range(1, tam_pop):\n",
    "        avaliacao = fitness(pop[i])\n",
    "        if avaliacao > melhor_avaliacao:\n",
    "            melhor_avaliacao = avaliacao\n",
    "            indice_melhor = i\n",
    "    return pop[indice_melhor]"
   ]
  },
  {
   "cell_type": "code",
   "execution_count": 141,
   "id": "f7404b52",
   "metadata": {},
   "outputs": [
    {
     "name": "stdout",
     "output_type": "stream",
     "text": [
      "Indivíduo: 11101, avaliacão: 4\n",
      "Indivíduo: 01001, avaliacão: 2\n",
      "Indivíduo: 00100, avaliacão: 1\n",
      "Indivíduo: 11101, avaliacão: 4\n",
      "Indivíduo: 00111, avaliacão: 3\n",
      "Indivíduo: 10011, avaliacão: 3\n",
      "Indivíduo: 10111, avaliacão: 4\n",
      "Indivíduo: 11010, avaliacão: 3\n",
      "Indivíduo: 10001, avaliacão: 2\n",
      "Indivíduo: 11110, avaliacão: 4\n",
      "Geração: 0 \n",
      "['11110', '11111', '11110', '11111', '11111', '11110', '11110', '11111', '01111', '11111']\n",
      "Geração: 1 \n",
      "['11110', '11111', '11110', '11111', '11111', '11110', '11110', '11111', '01111', '11111']\n",
      "Geração: 2 \n",
      "['11110', '11111', '11110', '11111', '11011', '11110', '11110', '11111', '01111', '11111']\n",
      "Geração: 3 \n",
      "['11110', '11111', '11110', '11111', '11111', '11110', '11110', '11111', '01111', '11111']\n",
      "Geração: 4 \n",
      "['11110', '11111', '11110', '11111', '11111', '11110', '11110', '11111', '01111', '11111']\n",
      "Geração: 5 \n",
      "['11110', '11111', '11110', '11111', '11111', '11110', '11110', '11111', '01111', '11111']\n",
      "Geração: 6 \n",
      "['11110', '11111', '11110', '11111', '11111', '11110', '11110', '11111', '01111', '11111']\n",
      "Geração: 7 \n",
      "['11110', '11111', '11110', '11111', '11111', '11110', '11110', '11111', '01110', '11111']\n",
      "Geração: 8 \n",
      "['11110', '11111', '11110', '11111', '11111', '11110', '01110', '11111', '01111', '11111']\n",
      "Geração: 9 \n",
      "['11110', '11111', '11110', '11111', '11111', '11110', '11110', '11111', '01111', '11111']\n"
     ]
    }
   ],
   "source": [
    "populacao = gerar_populacao(tam_pop,tam_genes)\n",
    "mostrarIndividuos(populacao)\n",
    "\n",
    "for geracao in range(geracoes):   \n",
    "    pais =  selecionar_pais(populacao,tam_pop)\n",
    "    nova_populacao = gerar_filhos(pais,tam_pop)#taxa crossover de 0.7 implicita\n",
    "    populacao = mutacao(filhos,tam_pop,tam_genes)#taxa mutacao implicita 0.5%\n",
    "    print('Geração: %d \\n%s' %(geracao,populacao))\n",
    "\n",
    "    "
   ]
  },
  {
   "cell_type": "code",
   "execution_count": 145,
   "id": "23ac0fa6",
   "metadata": {},
   "outputs": [
    {
     "name": "stdout",
     "output_type": "stream",
     "text": [
      "Melhor indivíduo:11111 - Avaliação:5\n"
     ]
    }
   ],
   "source": [
    "melhorIndividuo = melhor_individuo(populacao, tam_pop)\n",
    "melhorAvaliacao = fitness(melhorIndividuo)\n",
    "print('Melhor indivíduo:%s - Avaliação:%s' %(melhorIndividuo,melhorAvaliacao))"
   ]
  },
  {
   "cell_type": "code",
   "execution_count": null,
   "id": "132cc724",
   "metadata": {},
   "outputs": [],
   "source": []
  }
 ],
 "metadata": {
  "kernelspec": {
   "display_name": "Python 3",
   "language": "python",
   "name": "python3"
  },
  "language_info": {
   "codemirror_mode": {
    "name": "ipython",
    "version": 3
   },
   "file_extension": ".py",
   "mimetype": "text/x-python",
   "name": "python",
   "nbconvert_exporter": "python",
   "pygments_lexer": "ipython3",
   "version": "3.8.10"
  }
 },
 "nbformat": 4,
 "nbformat_minor": 5
}
